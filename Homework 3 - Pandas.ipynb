{
 "cells": [
  {
   "cell_type": "code",
   "execution_count": 1,
   "metadata": {
    "collapsed": true
   },
   "outputs": [],
   "source": [
    "import pandas as pd"
   ]
  },
  {
   "cell_type": "code",
   "execution_count": 2,
   "outputs": [
    {
     "data": {
      "text/plain": "  alert  cdi      code                                             detail  \\\n0   NaN  NaN  37389218  https://earthquake.usgs.gov/fdsnws/event/1/que...   \n1   NaN  NaN  37389202  https://earthquake.usgs.gov/fdsnws/event/1/que...   \n2   NaN  4.4  37389194  https://earthquake.usgs.gov/fdsnws/event/1/que...   \n3   NaN  NaN  37389186  https://earthquake.usgs.gov/fdsnws/event/1/que...   \n4   NaN  NaN  73096941  https://earthquake.usgs.gov/fdsnws/event/1/que...   \n\n       dmin  felt    gap           ids   mag magType  ...  sources     status  \\\n0  0.008693   NaN   85.0  ,ci37389218,  1.35      ml  ...     ,ci,  automatic   \n1  0.020030   NaN   79.0  ,ci37389202,  1.29      ml  ...     ,ci,  automatic   \n2  0.021370  28.0   21.0  ,ci37389194,  3.42      ml  ...     ,ci,  automatic   \n3  0.026180   NaN   39.0  ,ci37389186,  0.44      ml  ...     ,ci,  automatic   \n4  0.077990   NaN  192.0  ,nc73096941,  2.16      md  ...     ,nc,  automatic   \n\n            time                          title  tsunami        type  \\\n0  1539475168010  M 1.4 - 9km NE of Aguanga, CA        0  earthquake   \n1  1539475129610  M 1.3 - 9km NE of Aguanga, CA        0  earthquake   \n2  1539475062610  M 3.4 - 8km NE of Aguanga, CA        0  earthquake   \n3  1539474978070  M 0.4 - 9km NE of Aguanga, CA        0  earthquake   \n4  1539474716050  M 2.2 - 10km NW of Avenal, CA        0  earthquake   \n\n                                               types     tz        updated  \\\n0         ,geoserve,nearby-cities,origin,phase-data, -480.0  1539475395144   \n1         ,geoserve,nearby-cities,origin,phase-data, -480.0  1539475253925   \n2  ,dyfi,focal-mechanism,geoserve,nearby-cities,o... -480.0  1539536756176   \n3         ,geoserve,nearby-cities,origin,phase-data, -480.0  1539475196167   \n4  ,geoserve,nearby-cities,origin,phase-data,scit... -480.0  1539477547926   \n\n                                                 url  \n0  https://earthquake.usgs.gov/earthquakes/eventp...  \n1  https://earthquake.usgs.gov/earthquakes/eventp...  \n2  https://earthquake.usgs.gov/earthquakes/eventp...  \n3  https://earthquake.usgs.gov/earthquakes/eventp...  \n4  https://earthquake.usgs.gov/earthquakes/eventp...  \n\n[5 rows x 26 columns]",
      "text/html": "<div>\n<style scoped>\n    .dataframe tbody tr th:only-of-type {\n        vertical-align: middle;\n    }\n\n    .dataframe tbody tr th {\n        vertical-align: top;\n    }\n\n    .dataframe thead th {\n        text-align: right;\n    }\n</style>\n<table border=\"1\" class=\"dataframe\">\n  <thead>\n    <tr style=\"text-align: right;\">\n      <th></th>\n      <th>alert</th>\n      <th>cdi</th>\n      <th>code</th>\n      <th>detail</th>\n      <th>dmin</th>\n      <th>felt</th>\n      <th>gap</th>\n      <th>ids</th>\n      <th>mag</th>\n      <th>magType</th>\n      <th>...</th>\n      <th>sources</th>\n      <th>status</th>\n      <th>time</th>\n      <th>title</th>\n      <th>tsunami</th>\n      <th>type</th>\n      <th>types</th>\n      <th>tz</th>\n      <th>updated</th>\n      <th>url</th>\n    </tr>\n  </thead>\n  <tbody>\n    <tr>\n      <th>0</th>\n      <td>NaN</td>\n      <td>NaN</td>\n      <td>37389218</td>\n      <td>https://earthquake.usgs.gov/fdsnws/event/1/que...</td>\n      <td>0.008693</td>\n      <td>NaN</td>\n      <td>85.0</td>\n      <td>,ci37389218,</td>\n      <td>1.35</td>\n      <td>ml</td>\n      <td>...</td>\n      <td>,ci,</td>\n      <td>automatic</td>\n      <td>1539475168010</td>\n      <td>M 1.4 - 9km NE of Aguanga, CA</td>\n      <td>0</td>\n      <td>earthquake</td>\n      <td>,geoserve,nearby-cities,origin,phase-data,</td>\n      <td>-480.0</td>\n      <td>1539475395144</td>\n      <td>https://earthquake.usgs.gov/earthquakes/eventp...</td>\n    </tr>\n    <tr>\n      <th>1</th>\n      <td>NaN</td>\n      <td>NaN</td>\n      <td>37389202</td>\n      <td>https://earthquake.usgs.gov/fdsnws/event/1/que...</td>\n      <td>0.020030</td>\n      <td>NaN</td>\n      <td>79.0</td>\n      <td>,ci37389202,</td>\n      <td>1.29</td>\n      <td>ml</td>\n      <td>...</td>\n      <td>,ci,</td>\n      <td>automatic</td>\n      <td>1539475129610</td>\n      <td>M 1.3 - 9km NE of Aguanga, CA</td>\n      <td>0</td>\n      <td>earthquake</td>\n      <td>,geoserve,nearby-cities,origin,phase-data,</td>\n      <td>-480.0</td>\n      <td>1539475253925</td>\n      <td>https://earthquake.usgs.gov/earthquakes/eventp...</td>\n    </tr>\n    <tr>\n      <th>2</th>\n      <td>NaN</td>\n      <td>4.4</td>\n      <td>37389194</td>\n      <td>https://earthquake.usgs.gov/fdsnws/event/1/que...</td>\n      <td>0.021370</td>\n      <td>28.0</td>\n      <td>21.0</td>\n      <td>,ci37389194,</td>\n      <td>3.42</td>\n      <td>ml</td>\n      <td>...</td>\n      <td>,ci,</td>\n      <td>automatic</td>\n      <td>1539475062610</td>\n      <td>M 3.4 - 8km NE of Aguanga, CA</td>\n      <td>0</td>\n      <td>earthquake</td>\n      <td>,dyfi,focal-mechanism,geoserve,nearby-cities,o...</td>\n      <td>-480.0</td>\n      <td>1539536756176</td>\n      <td>https://earthquake.usgs.gov/earthquakes/eventp...</td>\n    </tr>\n    <tr>\n      <th>3</th>\n      <td>NaN</td>\n      <td>NaN</td>\n      <td>37389186</td>\n      <td>https://earthquake.usgs.gov/fdsnws/event/1/que...</td>\n      <td>0.026180</td>\n      <td>NaN</td>\n      <td>39.0</td>\n      <td>,ci37389186,</td>\n      <td>0.44</td>\n      <td>ml</td>\n      <td>...</td>\n      <td>,ci,</td>\n      <td>automatic</td>\n      <td>1539474978070</td>\n      <td>M 0.4 - 9km NE of Aguanga, CA</td>\n      <td>0</td>\n      <td>earthquake</td>\n      <td>,geoserve,nearby-cities,origin,phase-data,</td>\n      <td>-480.0</td>\n      <td>1539475196167</td>\n      <td>https://earthquake.usgs.gov/earthquakes/eventp...</td>\n    </tr>\n    <tr>\n      <th>4</th>\n      <td>NaN</td>\n      <td>NaN</td>\n      <td>73096941</td>\n      <td>https://earthquake.usgs.gov/fdsnws/event/1/que...</td>\n      <td>0.077990</td>\n      <td>NaN</td>\n      <td>192.0</td>\n      <td>,nc73096941,</td>\n      <td>2.16</td>\n      <td>md</td>\n      <td>...</td>\n      <td>,nc,</td>\n      <td>automatic</td>\n      <td>1539474716050</td>\n      <td>M 2.2 - 10km NW of Avenal, CA</td>\n      <td>0</td>\n      <td>earthquake</td>\n      <td>,geoserve,nearby-cities,origin,phase-data,scit...</td>\n      <td>-480.0</td>\n      <td>1539477547926</td>\n      <td>https://earthquake.usgs.gov/earthquakes/eventp...</td>\n    </tr>\n  </tbody>\n</table>\n<p>5 rows × 26 columns</p>\n</div>"
     },
     "execution_count": 2,
     "metadata": {},
     "output_type": "execute_result"
    }
   ],
   "source": [
    "earthquake = pd.read_csv('C:/Users/khoat/OneDrive - National Economics University/Desktop/1. Study/3.1. Data Preparation & Visualiazation/data/earthquakes.csv')\n",
    "earthquake.head()"
   ],
   "metadata": {
    "collapsed": false,
    "pycharm": {
     "name": "#%%\n"
    }
   }
  },
  {
   "cell_type": "code",
   "execution_count": null,
   "outputs": [],
   "source": [],
   "metadata": {
    "collapsed": false,
    "pycharm": {
     "name": "#%%\n"
    }
   }
  }
 ],
 "metadata": {
  "kernelspec": {
   "display_name": "Python 3",
   "language": "python",
   "name": "python3"
  },
  "language_info": {
   "codemirror_mode": {
    "name": "ipython",
    "version": 2
   },
   "file_extension": ".py",
   "mimetype": "text/x-python",
   "name": "python",
   "nbconvert_exporter": "python",
   "pygments_lexer": "ipython2",
   "version": "2.7.6"
  }
 },
 "nbformat": 4,
 "nbformat_minor": 0
}