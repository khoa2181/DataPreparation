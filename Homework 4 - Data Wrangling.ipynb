{
 "cells": [
  {
   "cell_type": "code",
   "execution_count": 2,
   "metadata": {
    "collapsed": true
   },
   "outputs": [],
   "source": [
    "import pandas as pd"
   ]
  },
  {
   "cell_type": "markdown",
   "source": [
    "a) Read in the aapl.csv, amzn.csv, fb.csv, goog.csv, and nflx.csv files."
   ],
   "metadata": {
    "collapsed": false,
    "pycharm": {
     "name": "#%% md\n"
    }
   }
  },
  {
   "cell_type": "code",
   "execution_count": 3,
   "outputs": [],
   "source": [
    "path = 'C:/Users/khoat/OneDrive - National Economics University/Desktop/1. Study/3.1. Data Preparation & Visualiazation/data/'"
   ],
   "metadata": {
    "collapsed": false,
    "pycharm": {
     "name": "#%%\n"
    }
   }
  },
  {
   "cell_type": "code",
   "execution_count": 4,
   "outputs": [],
   "source": [
    "aapl = pd.read_csv(path + 'aapl.csv')\n",
    "amzn = pd.read_csv(path + 'amzn.csv')\n",
    "fb = pd.read_csv(path + 'fb.csv')\n",
    "goog = pd.read_csv(path + 'goog.csv')\n",
    "nflx = pd.read_csv(path + 'nflx.csv')"
   ],
   "metadata": {
    "collapsed": false,
    "pycharm": {
     "name": "#%%\n"
    }
   }
  },
  {
   "cell_type": "markdown",
   "source": [
    "b) Add a column to each dataframe, called ticker, indicating the ticker symbol it is for (Apple's is AAPL, for example); this is how you look up a stock. In this case, the filenames happen to be the ticker symbols."
   ],
   "metadata": {
    "collapsed": false,
    "pycharm": {
     "name": "#%% md\n"
    }
   }
  },
  {
   "cell_type": "code",
   "execution_count": 5,
   "outputs": [],
   "source": [
    "list1 = [aapl, amzn, fb, goog, nflx]\n",
    "list2 = ['AAPL', 'AMZN', 'FB', 'GOOG', 'NFLX']\n",
    "for i in range(len(list1)):\n",
    "    list1[i]['ticker'] = [list2[i]] * len(list1[i])"
   ],
   "metadata": {
    "collapsed": false,
    "pycharm": {
     "name": "#%%\n"
    }
   }
  },
  {
   "cell_type": "markdown",
   "source": [
    "c) Append them together into a single dataframe. (concat)"
   ],
   "metadata": {
    "collapsed": false,
    "pycharm": {
     "name": "#%% md\n"
    }
   }
  },
  {
   "cell_type": "code",
   "execution_count": 6,
   "outputs": [],
   "source": [
    "#frames = [aapl, amzn, fb, goog, nflx]\n",
    "faang = pd.concat([aapl, amzn, fb, goog, nflx])"
   ],
   "metadata": {
    "collapsed": false,
    "pycharm": {
     "name": "#%%\n"
    }
   }
  },
  {
   "cell_type": "code",
   "execution_count": 7,
   "outputs": [
    {
     "data": {
      "text/plain": "         date       high        low       open      close       volume ticker\n0  2018-01-02  43.075001  42.314999  42.540001  43.064999  102223600.0   AAPL\n1  2018-01-03  43.637501  42.990002  43.132500  43.057499  118071600.0   AAPL\n2  2018-01-04  43.367500  43.020000  43.134998  43.257500   89738400.0   AAPL\n3  2018-01-05  43.842499  43.262501  43.360001  43.750000   94640000.0   AAPL\n4  2018-01-08  43.902500  43.482498  43.587502  43.587502   82271200.0   AAPL",
      "text/html": "<div>\n<style scoped>\n    .dataframe tbody tr th:only-of-type {\n        vertical-align: middle;\n    }\n\n    .dataframe tbody tr th {\n        vertical-align: top;\n    }\n\n    .dataframe thead th {\n        text-align: right;\n    }\n</style>\n<table border=\"1\" class=\"dataframe\">\n  <thead>\n    <tr style=\"text-align: right;\">\n      <th></th>\n      <th>date</th>\n      <th>high</th>\n      <th>low</th>\n      <th>open</th>\n      <th>close</th>\n      <th>volume</th>\n      <th>ticker</th>\n    </tr>\n  </thead>\n  <tbody>\n    <tr>\n      <th>0</th>\n      <td>2018-01-02</td>\n      <td>43.075001</td>\n      <td>42.314999</td>\n      <td>42.540001</td>\n      <td>43.064999</td>\n      <td>102223600.0</td>\n      <td>AAPL</td>\n    </tr>\n    <tr>\n      <th>1</th>\n      <td>2018-01-03</td>\n      <td>43.637501</td>\n      <td>42.990002</td>\n      <td>43.132500</td>\n      <td>43.057499</td>\n      <td>118071600.0</td>\n      <td>AAPL</td>\n    </tr>\n    <tr>\n      <th>2</th>\n      <td>2018-01-04</td>\n      <td>43.367500</td>\n      <td>43.020000</td>\n      <td>43.134998</td>\n      <td>43.257500</td>\n      <td>89738400.0</td>\n      <td>AAPL</td>\n    </tr>\n    <tr>\n      <th>3</th>\n      <td>2018-01-05</td>\n      <td>43.842499</td>\n      <td>43.262501</td>\n      <td>43.360001</td>\n      <td>43.750000</td>\n      <td>94640000.0</td>\n      <td>AAPL</td>\n    </tr>\n    <tr>\n      <th>4</th>\n      <td>2018-01-08</td>\n      <td>43.902500</td>\n      <td>43.482498</td>\n      <td>43.587502</td>\n      <td>43.587502</td>\n      <td>82271200.0</td>\n      <td>AAPL</td>\n    </tr>\n  </tbody>\n</table>\n</div>"
     },
     "execution_count": 7,
     "metadata": {},
     "output_type": "execute_result"
    }
   ],
   "source": [
    "faang.head()"
   ],
   "metadata": {
    "collapsed": false,
    "pycharm": {
     "name": "#%%\n"
    }
   }
  },
  {
   "cell_type": "markdown",
   "source": [
    "d) Save the result in a CSV file called faang.csv. (to_csv)"
   ],
   "metadata": {
    "collapsed": false,
    "pycharm": {
     "name": "#%% md\n"
    }
   }
  },
  {
   "cell_type": "code",
   "execution_count": 8,
   "outputs": [],
   "source": [
    "faang.to_csv(path + 'faang.csv')"
   ],
   "metadata": {
    "collapsed": false,
    "pycharm": {
     "name": "#%%\n"
    }
   }
  },
  {
   "cell_type": "markdown",
   "source": [
    "e) With faang, use type conversion to cast the values of the date column into datetimes and the volume column into integers. Then, sort by date and ticker."
   ],
   "metadata": {
    "collapsed": false,
    "pycharm": {
     "name": "#%% md\n"
    }
   }
  },
  {
   "cell_type": "code",
   "execution_count": 9,
   "outputs": [],
   "source": [
    "faang = faang.assign(\n",
    "    date=lambda x: pd.to_datetime(x.date),\n",
    "    volume=lambda x: x.volume.astype('int')\n",
    ")"
   ],
   "metadata": {
    "collapsed": false,
    "pycharm": {
     "name": "#%%\n"
    }
   }
  },
  {
   "cell_type": "code",
   "execution_count": 10,
   "outputs": [
    {
     "data": {
      "text/plain": "          date         high          low         open        close     volume  \\\n0   2018-01-02    43.075001    42.314999    42.540001    43.064999  102223600   \n0   2018-01-02  1190.000000  1170.510010  1172.000000  1189.010010    2694500   \n0   2018-01-02   181.580002   177.550003   177.679993   181.419998   18151900   \n0   2018-01-02  1066.939941  1045.229980  1048.339966  1065.000000    1237600   \n0   2018-01-02   201.649994   195.419998   196.100006   201.070007   10966900   \n..         ...          ...          ...          ...          ...        ...   \n250 2018-12-31    39.840000    39.119999    39.632500    39.435001  140014000   \n250 2018-12-31  1520.760010  1487.000000  1510.800049  1501.969971    6954500   \n250 2018-12-31   134.639999   129.949997   134.449997   131.089996   24625300   \n250 2018-12-31  1052.699951  1023.590027  1050.959961  1035.609985    1493300   \n250 2018-12-31   270.100006   260.000000   260.160004   267.660004   13508900   \n\n    ticker  \n0     AAPL  \n0     AMZN  \n0       FB  \n0     GOOG  \n0     NFLX  \n..     ...  \n250   AAPL  \n250   AMZN  \n250     FB  \n250   GOOG  \n250   NFLX  \n\n[1255 rows x 7 columns]",
      "text/html": "<div>\n<style scoped>\n    .dataframe tbody tr th:only-of-type {\n        vertical-align: middle;\n    }\n\n    .dataframe tbody tr th {\n        vertical-align: top;\n    }\n\n    .dataframe thead th {\n        text-align: right;\n    }\n</style>\n<table border=\"1\" class=\"dataframe\">\n  <thead>\n    <tr style=\"text-align: right;\">\n      <th></th>\n      <th>date</th>\n      <th>high</th>\n      <th>low</th>\n      <th>open</th>\n      <th>close</th>\n      <th>volume</th>\n      <th>ticker</th>\n    </tr>\n  </thead>\n  <tbody>\n    <tr>\n      <th>0</th>\n      <td>2018-01-02</td>\n      <td>43.075001</td>\n      <td>42.314999</td>\n      <td>42.540001</td>\n      <td>43.064999</td>\n      <td>102223600</td>\n      <td>AAPL</td>\n    </tr>\n    <tr>\n      <th>0</th>\n      <td>2018-01-02</td>\n      <td>1190.000000</td>\n      <td>1170.510010</td>\n      <td>1172.000000</td>\n      <td>1189.010010</td>\n      <td>2694500</td>\n      <td>AMZN</td>\n    </tr>\n    <tr>\n      <th>0</th>\n      <td>2018-01-02</td>\n      <td>181.580002</td>\n      <td>177.550003</td>\n      <td>177.679993</td>\n      <td>181.419998</td>\n      <td>18151900</td>\n      <td>FB</td>\n    </tr>\n    <tr>\n      <th>0</th>\n      <td>2018-01-02</td>\n      <td>1066.939941</td>\n      <td>1045.229980</td>\n      <td>1048.339966</td>\n      <td>1065.000000</td>\n      <td>1237600</td>\n      <td>GOOG</td>\n    </tr>\n    <tr>\n      <th>0</th>\n      <td>2018-01-02</td>\n      <td>201.649994</td>\n      <td>195.419998</td>\n      <td>196.100006</td>\n      <td>201.070007</td>\n      <td>10966900</td>\n      <td>NFLX</td>\n    </tr>\n    <tr>\n      <th>...</th>\n      <td>...</td>\n      <td>...</td>\n      <td>...</td>\n      <td>...</td>\n      <td>...</td>\n      <td>...</td>\n      <td>...</td>\n    </tr>\n    <tr>\n      <th>250</th>\n      <td>2018-12-31</td>\n      <td>39.840000</td>\n      <td>39.119999</td>\n      <td>39.632500</td>\n      <td>39.435001</td>\n      <td>140014000</td>\n      <td>AAPL</td>\n    </tr>\n    <tr>\n      <th>250</th>\n      <td>2018-12-31</td>\n      <td>1520.760010</td>\n      <td>1487.000000</td>\n      <td>1510.800049</td>\n      <td>1501.969971</td>\n      <td>6954500</td>\n      <td>AMZN</td>\n    </tr>\n    <tr>\n      <th>250</th>\n      <td>2018-12-31</td>\n      <td>134.639999</td>\n      <td>129.949997</td>\n      <td>134.449997</td>\n      <td>131.089996</td>\n      <td>24625300</td>\n      <td>FB</td>\n    </tr>\n    <tr>\n      <th>250</th>\n      <td>2018-12-31</td>\n      <td>1052.699951</td>\n      <td>1023.590027</td>\n      <td>1050.959961</td>\n      <td>1035.609985</td>\n      <td>1493300</td>\n      <td>GOOG</td>\n    </tr>\n    <tr>\n      <th>250</th>\n      <td>2018-12-31</td>\n      <td>270.100006</td>\n      <td>260.000000</td>\n      <td>260.160004</td>\n      <td>267.660004</td>\n      <td>13508900</td>\n      <td>NFLX</td>\n    </tr>\n  </tbody>\n</table>\n<p>1255 rows × 7 columns</p>\n</div>"
     },
     "execution_count": 10,
     "metadata": {},
     "output_type": "execute_result"
    }
   ],
   "source": [
    "faang.sort_values(by=['date', 'ticker'])"
   ],
   "metadata": {
    "collapsed": false,
    "pycharm": {
     "name": "#%%\n"
    }
   }
  },
  {
   "cell_type": "markdown",
   "source": [
    "f) Find the seven rows in faang with the lowest value for volume"
   ],
   "metadata": {
    "collapsed": false
   }
  },
  {
   "cell_type": "code",
   "execution_count": 11,
   "outputs": [
    {
     "data": {
      "text/plain": "          date         high          low         open        close  volume  \\\n126 2018-07-03  1135.819946  1100.020020  1135.819946  1102.890015  679000   \n226 2018-11-23  1037.589966  1022.398987  1030.000000  1023.880005  691500   \n99  2018-05-24  1080.469971  1066.150024  1079.000000  1079.239990  766800   \n130 2018-07-10  1159.589966  1149.589966  1156.979980  1152.839966  798400   \n152 2018-08-09  1255.541992  1246.010010  1249.900024  1249.099976  848600   \n159 2018-08-20  1211.000000  1194.625977  1205.020020  1207.770020  870800   \n161 2018-08-22  1211.839966  1199.000000  1200.000000  1207.329956  887400   \n\n    ticker  \n126   GOOG  \n226   GOOG  \n99    GOOG  \n130   GOOG  \n152   GOOG  \n159   GOOG  \n161   GOOG  ",
      "text/html": "<div>\n<style scoped>\n    .dataframe tbody tr th:only-of-type {\n        vertical-align: middle;\n    }\n\n    .dataframe tbody tr th {\n        vertical-align: top;\n    }\n\n    .dataframe thead th {\n        text-align: right;\n    }\n</style>\n<table border=\"1\" class=\"dataframe\">\n  <thead>\n    <tr style=\"text-align: right;\">\n      <th></th>\n      <th>date</th>\n      <th>high</th>\n      <th>low</th>\n      <th>open</th>\n      <th>close</th>\n      <th>volume</th>\n      <th>ticker</th>\n    </tr>\n  </thead>\n  <tbody>\n    <tr>\n      <th>126</th>\n      <td>2018-07-03</td>\n      <td>1135.819946</td>\n      <td>1100.020020</td>\n      <td>1135.819946</td>\n      <td>1102.890015</td>\n      <td>679000</td>\n      <td>GOOG</td>\n    </tr>\n    <tr>\n      <th>226</th>\n      <td>2018-11-23</td>\n      <td>1037.589966</td>\n      <td>1022.398987</td>\n      <td>1030.000000</td>\n      <td>1023.880005</td>\n      <td>691500</td>\n      <td>GOOG</td>\n    </tr>\n    <tr>\n      <th>99</th>\n      <td>2018-05-24</td>\n      <td>1080.469971</td>\n      <td>1066.150024</td>\n      <td>1079.000000</td>\n      <td>1079.239990</td>\n      <td>766800</td>\n      <td>GOOG</td>\n    </tr>\n    <tr>\n      <th>130</th>\n      <td>2018-07-10</td>\n      <td>1159.589966</td>\n      <td>1149.589966</td>\n      <td>1156.979980</td>\n      <td>1152.839966</td>\n      <td>798400</td>\n      <td>GOOG</td>\n    </tr>\n    <tr>\n      <th>152</th>\n      <td>2018-08-09</td>\n      <td>1255.541992</td>\n      <td>1246.010010</td>\n      <td>1249.900024</td>\n      <td>1249.099976</td>\n      <td>848600</td>\n      <td>GOOG</td>\n    </tr>\n    <tr>\n      <th>159</th>\n      <td>2018-08-20</td>\n      <td>1211.000000</td>\n      <td>1194.625977</td>\n      <td>1205.020020</td>\n      <td>1207.770020</td>\n      <td>870800</td>\n      <td>GOOG</td>\n    </tr>\n    <tr>\n      <th>161</th>\n      <td>2018-08-22</td>\n      <td>1211.839966</td>\n      <td>1199.000000</td>\n      <td>1200.000000</td>\n      <td>1207.329956</td>\n      <td>887400</td>\n      <td>GOOG</td>\n    </tr>\n  </tbody>\n</table>\n</div>"
     },
     "execution_count": 11,
     "metadata": {},
     "output_type": "execute_result"
    }
   ],
   "source": [
    "faang.sort_values(by=['volume'], ascending = True).head(7)"
   ],
   "metadata": {
    "collapsed": false,
    "pycharm": {
     "name": "#%%\n"
    }
   }
  },
  {
   "cell_type": "markdown",
   "source": [
    "a) Read in the covid19_cases.csv file."
   ],
   "metadata": {
    "collapsed": false
   }
  },
  {
   "cell_type": "code",
   "execution_count": 13,
   "outputs": [],
   "source": [
    "covid = pd.read_csv(path + 'covid19_cases.csv')"
   ],
   "metadata": {
    "collapsed": false,
    "pycharm": {
     "name": "#%%\n"
    }
   }
  },
  {
   "cell_type": "markdown",
   "source": [
    "b) Create a date column using the data in the dateRep column and the pd.to_datetime() function."
   ],
   "metadata": {
    "collapsed": false,
    "pycharm": {
     "name": "#%% md\n"
    }
   }
  },
  {
   "cell_type": "code",
   "execution_count": 15,
   "outputs": [],
   "source": [
    "covid['date'] = pd.to_datetime(covid.dateRep)"
   ],
   "metadata": {
    "collapsed": false,
    "pycharm": {
     "name": "#%%\n"
    }
   }
  },
  {
   "cell_type": "markdown",
   "source": [
    "c) Set the date column as the index and sort the index."
   ],
   "metadata": {
    "collapsed": false,
    "pycharm": {
     "name": "#%% md\n"
    }
   }
  },
  {
   "cell_type": "code",
   "execution_count": 16,
   "outputs": [],
   "source": [
    "covid.set_index('date', inplace = True)"
   ],
   "metadata": {
    "collapsed": false,
    "pycharm": {
     "name": "#%%\n"
    }
   }
  },
  {
   "cell_type": "code",
   "execution_count": 18,
   "outputs": [
    {
     "data": {
      "text/plain": "            Cumulative_number_for_14_days_of_COVID-19_cases_per_100000  cases  \\\ndate                                                                            \n2020-01-01                                                NaN               0   \n2020-01-01                                                NaN               0   \n2020-01-01                                                NaN               0   \n2020-01-01                                                NaN               0   \n2020-01-01                                                NaN               0   \n\n           continentExp countriesAndTerritories countryterritoryCode  \\\ndate                                                                   \n2020-01-01       Europe               Lithuania                  LTU   \n2020-01-01       Europe                 Iceland                  ISL   \n2020-01-01         Asia                   Nepal                  NPL   \n2020-01-01       Europe              San_Marino                  SMR   \n2020-01-01      America                  Canada                  CAN   \n\n               dateRep  day  deaths geoId  month  popData2019  year  \ndate                                                                 \n2020-01-01  01/01/2020    1       0    LT      1    2794184.0  2020  \n2020-01-01  01/01/2020    1       0    IS      1     356991.0  2020  \n2020-01-01  01/01/2020    1       0    NP      1   28608715.0  2020  \n2020-01-01  01/01/2020    1       0    SM      1      34453.0  2020  \n2020-01-01  01/01/2020    1       0    CA      1   37411038.0  2020  ",
      "text/html": "<div>\n<style scoped>\n    .dataframe tbody tr th:only-of-type {\n        vertical-align: middle;\n    }\n\n    .dataframe tbody tr th {\n        vertical-align: top;\n    }\n\n    .dataframe thead th {\n        text-align: right;\n    }\n</style>\n<table border=\"1\" class=\"dataframe\">\n  <thead>\n    <tr style=\"text-align: right;\">\n      <th></th>\n      <th>Cumulative_number_for_14_days_of_COVID-19_cases_per_100000</th>\n      <th>cases</th>\n      <th>continentExp</th>\n      <th>countriesAndTerritories</th>\n      <th>countryterritoryCode</th>\n      <th>dateRep</th>\n      <th>day</th>\n      <th>deaths</th>\n      <th>geoId</th>\n      <th>month</th>\n      <th>popData2019</th>\n      <th>year</th>\n    </tr>\n    <tr>\n      <th>date</th>\n      <th></th>\n      <th></th>\n      <th></th>\n      <th></th>\n      <th></th>\n      <th></th>\n      <th></th>\n      <th></th>\n      <th></th>\n      <th></th>\n      <th></th>\n      <th></th>\n    </tr>\n  </thead>\n  <tbody>\n    <tr>\n      <th>2020-01-01</th>\n      <td>NaN</td>\n      <td>0</td>\n      <td>Europe</td>\n      <td>Lithuania</td>\n      <td>LTU</td>\n      <td>01/01/2020</td>\n      <td>1</td>\n      <td>0</td>\n      <td>LT</td>\n      <td>1</td>\n      <td>2794184.0</td>\n      <td>2020</td>\n    </tr>\n    <tr>\n      <th>2020-01-01</th>\n      <td>NaN</td>\n      <td>0</td>\n      <td>Europe</td>\n      <td>Iceland</td>\n      <td>ISL</td>\n      <td>01/01/2020</td>\n      <td>1</td>\n      <td>0</td>\n      <td>IS</td>\n      <td>1</td>\n      <td>356991.0</td>\n      <td>2020</td>\n    </tr>\n    <tr>\n      <th>2020-01-01</th>\n      <td>NaN</td>\n      <td>0</td>\n      <td>Asia</td>\n      <td>Nepal</td>\n      <td>NPL</td>\n      <td>01/01/2020</td>\n      <td>1</td>\n      <td>0</td>\n      <td>NP</td>\n      <td>1</td>\n      <td>28608715.0</td>\n      <td>2020</td>\n    </tr>\n    <tr>\n      <th>2020-01-01</th>\n      <td>NaN</td>\n      <td>0</td>\n      <td>Europe</td>\n      <td>San_Marino</td>\n      <td>SMR</td>\n      <td>01/01/2020</td>\n      <td>1</td>\n      <td>0</td>\n      <td>SM</td>\n      <td>1</td>\n      <td>34453.0</td>\n      <td>2020</td>\n    </tr>\n    <tr>\n      <th>2020-01-01</th>\n      <td>NaN</td>\n      <td>0</td>\n      <td>America</td>\n      <td>Canada</td>\n      <td>CAN</td>\n      <td>01/01/2020</td>\n      <td>1</td>\n      <td>0</td>\n      <td>CA</td>\n      <td>1</td>\n      <td>37411038.0</td>\n      <td>2020</td>\n    </tr>\n  </tbody>\n</table>\n</div>"
     },
     "execution_count": 18,
     "metadata": {},
     "output_type": "execute_result"
    }
   ],
   "source": [
    "covid.sort_index(axis = 1).head()"
   ],
   "metadata": {
    "collapsed": false,
    "pycharm": {
     "name": "#%%\n"
    }
   }
  },
  {
   "cell_type": "markdown",
   "source": [
    "d) Replace all occurrences of United_States_of_America and United_ Kingdom with USA and UK, respectively. Hint: the replace() method can be run on the dataframe as a whole."
   ],
   "metadata": {
    "collapsed": false
   }
  },
  {
   "cell_type": "code",
   "execution_count": 19,
   "outputs": [],
   "source": [
    "covid.replace('United_States_of_America', 'USA', inplace = True)\n",
    "covid.replace('United_Kingdom', 'UK', inplace = True)"
   ],
   "metadata": {
    "collapsed": false,
    "pycharm": {
     "name": "#%%\n"
    }
   }
  },
  {
   "cell_type": "markdown",
   "source": [
    "e) Using the countriesAndTerritories column, filter the cleaned COVID-19 cases data down to Argentina, Brazil, China, Colombia, India, Italy, Mexico, Peru, Russia, Spain, Turkey, the UK, and the USA."
   ],
   "metadata": {
    "collapsed": false
   }
  },
  {
   "cell_type": "code",
   "execution_count": 52,
   "outputs": [
    {
     "data": {
      "text/plain": "               dateRep  day  month  year  cases  deaths  \\\ndate                                                      \n2020-01-01  01/01/2020    1      1  2020      0       0   \n2020-01-01  01/01/2020    1      1  2020      0       0   \n2020-01-01  01/01/2020    1      1  2020      0       0   \n2020-01-01  01/01/2020    1      1  2020      0       0   \n2020-01-01  01/01/2020    1      1  2020      0       0   \n2020-01-01  01/01/2020    1      1  2020      0       0   \n2020-01-01  01/01/2020    1      1  2020      0       0   \n2020-01-01  01/01/2020    1      1  2020      0       0   \n2020-01-01  01/01/2020    1      1  2020      0       0   \n2020-02-01  02/01/2020    2      1  2020      0       0   \n\n           countriesAndTerritories geoId countryterritoryCode   popData2019  \\\ndate                                                                          \n2020-01-01                   India    IN                  IND  1.366418e+09   \n2020-01-01                   China    CN                  CHN  1.433784e+09   \n2020-01-01                  Mexico    MX                  MEX  1.275755e+08   \n2020-01-01                     USA    US                  USA  3.290649e+08   \n2020-01-01                   Spain    ES                  ESP  4.693706e+07   \n2020-01-01                   Italy    IT                  ITA  6.035955e+07   \n2020-01-01                  Brazil    BR                  BRA  2.110495e+08   \n2020-01-01                  Russia    RU                  RUS  1.458723e+08   \n2020-01-01                      UK    UK                  GBR  6.664711e+07   \n2020-02-01                   China    CN                  CHN  1.433784e+09   \n\n           continentExp  \\\ndate                      \n2020-01-01         Asia   \n2020-01-01         Asia   \n2020-01-01      America   \n2020-01-01      America   \n2020-01-01       Europe   \n2020-01-01       Europe   \n2020-01-01      America   \n2020-01-01       Europe   \n2020-01-01       Europe   \n2020-02-01         Asia   \n\n            Cumulative_number_for_14_days_of_COVID-19_cases_per_100000  \ndate                                                                    \n2020-01-01                                                NaN           \n2020-01-01                                                NaN           \n2020-01-01                                                NaN           \n2020-01-01                                                NaN           \n2020-01-01                                                NaN           \n2020-01-01                                                NaN           \n2020-01-01                                                NaN           \n2020-01-01                                                NaN           \n2020-01-01                                                NaN           \n2020-02-01                                                NaN           ",
      "text/html": "<div>\n<style scoped>\n    .dataframe tbody tr th:only-of-type {\n        vertical-align: middle;\n    }\n\n    .dataframe tbody tr th {\n        vertical-align: top;\n    }\n\n    .dataframe thead th {\n        text-align: right;\n    }\n</style>\n<table border=\"1\" class=\"dataframe\">\n  <thead>\n    <tr style=\"text-align: right;\">\n      <th></th>\n      <th>dateRep</th>\n      <th>day</th>\n      <th>month</th>\n      <th>year</th>\n      <th>cases</th>\n      <th>deaths</th>\n      <th>countriesAndTerritories</th>\n      <th>geoId</th>\n      <th>countryterritoryCode</th>\n      <th>popData2019</th>\n      <th>continentExp</th>\n      <th>Cumulative_number_for_14_days_of_COVID-19_cases_per_100000</th>\n    </tr>\n    <tr>\n      <th>date</th>\n      <th></th>\n      <th></th>\n      <th></th>\n      <th></th>\n      <th></th>\n      <th></th>\n      <th></th>\n      <th></th>\n      <th></th>\n      <th></th>\n      <th></th>\n      <th></th>\n    </tr>\n  </thead>\n  <tbody>\n    <tr>\n      <th>2020-01-01</th>\n      <td>01/01/2020</td>\n      <td>1</td>\n      <td>1</td>\n      <td>2020</td>\n      <td>0</td>\n      <td>0</td>\n      <td>India</td>\n      <td>IN</td>\n      <td>IND</td>\n      <td>1.366418e+09</td>\n      <td>Asia</td>\n      <td>NaN</td>\n    </tr>\n    <tr>\n      <th>2020-01-01</th>\n      <td>01/01/2020</td>\n      <td>1</td>\n      <td>1</td>\n      <td>2020</td>\n      <td>0</td>\n      <td>0</td>\n      <td>China</td>\n      <td>CN</td>\n      <td>CHN</td>\n      <td>1.433784e+09</td>\n      <td>Asia</td>\n      <td>NaN</td>\n    </tr>\n    <tr>\n      <th>2020-01-01</th>\n      <td>01/01/2020</td>\n      <td>1</td>\n      <td>1</td>\n      <td>2020</td>\n      <td>0</td>\n      <td>0</td>\n      <td>Mexico</td>\n      <td>MX</td>\n      <td>MEX</td>\n      <td>1.275755e+08</td>\n      <td>America</td>\n      <td>NaN</td>\n    </tr>\n    <tr>\n      <th>2020-01-01</th>\n      <td>01/01/2020</td>\n      <td>1</td>\n      <td>1</td>\n      <td>2020</td>\n      <td>0</td>\n      <td>0</td>\n      <td>USA</td>\n      <td>US</td>\n      <td>USA</td>\n      <td>3.290649e+08</td>\n      <td>America</td>\n      <td>NaN</td>\n    </tr>\n    <tr>\n      <th>2020-01-01</th>\n      <td>01/01/2020</td>\n      <td>1</td>\n      <td>1</td>\n      <td>2020</td>\n      <td>0</td>\n      <td>0</td>\n      <td>Spain</td>\n      <td>ES</td>\n      <td>ESP</td>\n      <td>4.693706e+07</td>\n      <td>Europe</td>\n      <td>NaN</td>\n    </tr>\n    <tr>\n      <th>2020-01-01</th>\n      <td>01/01/2020</td>\n      <td>1</td>\n      <td>1</td>\n      <td>2020</td>\n      <td>0</td>\n      <td>0</td>\n      <td>Italy</td>\n      <td>IT</td>\n      <td>ITA</td>\n      <td>6.035955e+07</td>\n      <td>Europe</td>\n      <td>NaN</td>\n    </tr>\n    <tr>\n      <th>2020-01-01</th>\n      <td>01/01/2020</td>\n      <td>1</td>\n      <td>1</td>\n      <td>2020</td>\n      <td>0</td>\n      <td>0</td>\n      <td>Brazil</td>\n      <td>BR</td>\n      <td>BRA</td>\n      <td>2.110495e+08</td>\n      <td>America</td>\n      <td>NaN</td>\n    </tr>\n    <tr>\n      <th>2020-01-01</th>\n      <td>01/01/2020</td>\n      <td>1</td>\n      <td>1</td>\n      <td>2020</td>\n      <td>0</td>\n      <td>0</td>\n      <td>Russia</td>\n      <td>RU</td>\n      <td>RUS</td>\n      <td>1.458723e+08</td>\n      <td>Europe</td>\n      <td>NaN</td>\n    </tr>\n    <tr>\n      <th>2020-01-01</th>\n      <td>01/01/2020</td>\n      <td>1</td>\n      <td>1</td>\n      <td>2020</td>\n      <td>0</td>\n      <td>0</td>\n      <td>UK</td>\n      <td>UK</td>\n      <td>GBR</td>\n      <td>6.664711e+07</td>\n      <td>Europe</td>\n      <td>NaN</td>\n    </tr>\n    <tr>\n      <th>2020-02-01</th>\n      <td>02/01/2020</td>\n      <td>2</td>\n      <td>1</td>\n      <td>2020</td>\n      <td>0</td>\n      <td>0</td>\n      <td>China</td>\n      <td>CN</td>\n      <td>CHN</td>\n      <td>1.433784e+09</td>\n      <td>Asia</td>\n      <td>NaN</td>\n    </tr>\n  </tbody>\n</table>\n</div>"
     },
     "execution_count": 52,
     "metadata": {},
     "output_type": "execute_result"
    }
   ],
   "source": [
    "country_list = ['Argentina','Brazil','China','Columbia','India','Italy','Mexico','Peru','Russia','Spain','Turkey','UK','USA']\n",
    "filtered_covid = covid[covid.countriesAndTerritories.isin(country_list)]\n",
    "filtered_covid\n",
    "filtered_covid.head(10)"
   ],
   "metadata": {
    "collapsed": false,
    "pycharm": {
     "name": "#%%\n"
    }
   }
  },
  {
   "cell_type": "markdown",
   "source": [
    "f) Pivot the data so that the index contains the dates, the columns contain the country names, and the values are the\n",
    "case counts (the cases column). Be sure to fill in NaN values with 0."
   ],
   "metadata": {
    "collapsed": false
   }
  },
  {
   "cell_type": "code",
   "execution_count": 53,
   "outputs": [
    {
     "data": {
      "text/plain": "countriesAndTerritories  Argentina   Brazil   China    India   Italy  Mexico  \\\ndateRep                                                                        \n01/01/2020                     0.0      0.0     0.0      0.0     0.0     0.0   \n01/02/2020                     0.0      0.0  2095.0      0.0     0.0     0.0   \n01/03/2020                     0.0      1.0   574.0      0.0   240.0     2.0   \n01/04/2020                     0.0   1138.0    54.0    146.0  4053.0   121.0   \n01/05/2020                   143.0   7218.0    12.0   1993.0  1872.0  1425.0   \n...                            ...      ...     ...      ...     ...     ...   \n31/01/2020                     0.0      0.0  1980.0      0.0     3.0     0.0   \n31/03/2020                   146.0    323.0    84.0    180.0  4050.0   101.0   \n31/05/2020                   795.0  33274.0     5.0   8380.0   416.0  2885.0   \n31/07/2020                  5641.0  57837.0   276.0  55078.0   382.0  7730.0   \n31/08/2020                  9217.0  16158.0    32.0  78512.0  1365.0  4129.0   \n\ncountriesAndTerritories    Peru  Russia    Spain  Turkey      UK      USA  \ndateRep                                                                    \n01/01/2020                  0.0     0.0      0.0     0.0     0.0      0.0  \n01/02/2020                  0.0     2.0      1.0     0.0     2.0      1.0  \n01/03/2020                  0.0     0.0     28.0     0.0    12.0      3.0  \n01/04/2020                115.0   501.0   7413.0  2704.0  4273.0  24998.0  \n01/05/2020               3045.0  7099.0   1387.0  2615.0  5442.0  29917.0  \n...                         ...     ...      ...     ...     ...      ...  \n31/01/2020                  0.0     0.0      0.0     0.0     0.0      1.0  \n31/03/2020                 98.0   302.0   8145.0  1610.0  2858.0  21595.0  \n31/05/2020               7386.0  8952.0    201.0   983.0  1527.0  23297.0  \n31/07/2020               6809.0  5509.0   3092.0   967.0   846.0  68032.0  \n31/08/2020               7731.0  4980.0  23572.0  1482.0  1715.0  35581.0  \n\n[262 rows x 12 columns]",
      "text/html": "<div>\n<style scoped>\n    .dataframe tbody tr th:only-of-type {\n        vertical-align: middle;\n    }\n\n    .dataframe tbody tr th {\n        vertical-align: top;\n    }\n\n    .dataframe thead th {\n        text-align: right;\n    }\n</style>\n<table border=\"1\" class=\"dataframe\">\n  <thead>\n    <tr style=\"text-align: right;\">\n      <th>countriesAndTerritories</th>\n      <th>Argentina</th>\n      <th>Brazil</th>\n      <th>China</th>\n      <th>India</th>\n      <th>Italy</th>\n      <th>Mexico</th>\n      <th>Peru</th>\n      <th>Russia</th>\n      <th>Spain</th>\n      <th>Turkey</th>\n      <th>UK</th>\n      <th>USA</th>\n    </tr>\n    <tr>\n      <th>dateRep</th>\n      <th></th>\n      <th></th>\n      <th></th>\n      <th></th>\n      <th></th>\n      <th></th>\n      <th></th>\n      <th></th>\n      <th></th>\n      <th></th>\n      <th></th>\n      <th></th>\n    </tr>\n  </thead>\n  <tbody>\n    <tr>\n      <th>01/01/2020</th>\n      <td>0.0</td>\n      <td>0.0</td>\n      <td>0.0</td>\n      <td>0.0</td>\n      <td>0.0</td>\n      <td>0.0</td>\n      <td>0.0</td>\n      <td>0.0</td>\n      <td>0.0</td>\n      <td>0.0</td>\n      <td>0.0</td>\n      <td>0.0</td>\n    </tr>\n    <tr>\n      <th>01/02/2020</th>\n      <td>0.0</td>\n      <td>0.0</td>\n      <td>2095.0</td>\n      <td>0.0</td>\n      <td>0.0</td>\n      <td>0.0</td>\n      <td>0.0</td>\n      <td>2.0</td>\n      <td>1.0</td>\n      <td>0.0</td>\n      <td>2.0</td>\n      <td>1.0</td>\n    </tr>\n    <tr>\n      <th>01/03/2020</th>\n      <td>0.0</td>\n      <td>1.0</td>\n      <td>574.0</td>\n      <td>0.0</td>\n      <td>240.0</td>\n      <td>2.0</td>\n      <td>0.0</td>\n      <td>0.0</td>\n      <td>28.0</td>\n      <td>0.0</td>\n      <td>12.0</td>\n      <td>3.0</td>\n    </tr>\n    <tr>\n      <th>01/04/2020</th>\n      <td>0.0</td>\n      <td>1138.0</td>\n      <td>54.0</td>\n      <td>146.0</td>\n      <td>4053.0</td>\n      <td>121.0</td>\n      <td>115.0</td>\n      <td>501.0</td>\n      <td>7413.0</td>\n      <td>2704.0</td>\n      <td>4273.0</td>\n      <td>24998.0</td>\n    </tr>\n    <tr>\n      <th>01/05/2020</th>\n      <td>143.0</td>\n      <td>7218.0</td>\n      <td>12.0</td>\n      <td>1993.0</td>\n      <td>1872.0</td>\n      <td>1425.0</td>\n      <td>3045.0</td>\n      <td>7099.0</td>\n      <td>1387.0</td>\n      <td>2615.0</td>\n      <td>5442.0</td>\n      <td>29917.0</td>\n    </tr>\n    <tr>\n      <th>...</th>\n      <td>...</td>\n      <td>...</td>\n      <td>...</td>\n      <td>...</td>\n      <td>...</td>\n      <td>...</td>\n      <td>...</td>\n      <td>...</td>\n      <td>...</td>\n      <td>...</td>\n      <td>...</td>\n      <td>...</td>\n    </tr>\n    <tr>\n      <th>31/01/2020</th>\n      <td>0.0</td>\n      <td>0.0</td>\n      <td>1980.0</td>\n      <td>0.0</td>\n      <td>3.0</td>\n      <td>0.0</td>\n      <td>0.0</td>\n      <td>0.0</td>\n      <td>0.0</td>\n      <td>0.0</td>\n      <td>0.0</td>\n      <td>1.0</td>\n    </tr>\n    <tr>\n      <th>31/03/2020</th>\n      <td>146.0</td>\n      <td>323.0</td>\n      <td>84.0</td>\n      <td>180.0</td>\n      <td>4050.0</td>\n      <td>101.0</td>\n      <td>98.0</td>\n      <td>302.0</td>\n      <td>8145.0</td>\n      <td>1610.0</td>\n      <td>2858.0</td>\n      <td>21595.0</td>\n    </tr>\n    <tr>\n      <th>31/05/2020</th>\n      <td>795.0</td>\n      <td>33274.0</td>\n      <td>5.0</td>\n      <td>8380.0</td>\n      <td>416.0</td>\n      <td>2885.0</td>\n      <td>7386.0</td>\n      <td>8952.0</td>\n      <td>201.0</td>\n      <td>983.0</td>\n      <td>1527.0</td>\n      <td>23297.0</td>\n    </tr>\n    <tr>\n      <th>31/07/2020</th>\n      <td>5641.0</td>\n      <td>57837.0</td>\n      <td>276.0</td>\n      <td>55078.0</td>\n      <td>382.0</td>\n      <td>7730.0</td>\n      <td>6809.0</td>\n      <td>5509.0</td>\n      <td>3092.0</td>\n      <td>967.0</td>\n      <td>846.0</td>\n      <td>68032.0</td>\n    </tr>\n    <tr>\n      <th>31/08/2020</th>\n      <td>9217.0</td>\n      <td>16158.0</td>\n      <td>32.0</td>\n      <td>78512.0</td>\n      <td>1365.0</td>\n      <td>4129.0</td>\n      <td>7731.0</td>\n      <td>4980.0</td>\n      <td>23572.0</td>\n      <td>1482.0</td>\n      <td>1715.0</td>\n      <td>35581.0</td>\n    </tr>\n  </tbody>\n</table>\n<p>262 rows × 12 columns</p>\n</div>"
     },
     "execution_count": 53,
     "metadata": {},
     "output_type": "execute_result"
    }
   ],
   "source": [
    "pivot_covid = filtered_covid.pivot(index = 'dateRep', columns = 'countriesAndTerritories', values='cases')\n",
    "pivot_covid.fillna(0, inplace = True)\n",
    "pivot_covid"
   ],
   "metadata": {
    "collapsed": false,
    "pycharm": {
     "name": "#%%\n"
    }
   }
  },
  {
   "cell_type": "code",
   "execution_count": null,
   "outputs": [],
   "source": [],
   "metadata": {
    "collapsed": false,
    "pycharm": {
     "name": "#%%\n"
    }
   }
  }
 ],
 "metadata": {
  "kernelspec": {
   "display_name": "Python 3",
   "language": "python",
   "name": "python3"
  },
  "language_info": {
   "codemirror_mode": {
    "name": "ipython",
    "version": 2
   },
   "file_extension": ".py",
   "mimetype": "text/x-python",
   "name": "python",
   "nbconvert_exporter": "python",
   "pygments_lexer": "ipython2",
   "version": "2.7.6"
  }
 },
 "nbformat": 4,
 "nbformat_minor": 0
}