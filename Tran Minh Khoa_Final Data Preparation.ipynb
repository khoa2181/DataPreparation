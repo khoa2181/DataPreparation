{
 "cells": [
  {
   "cell_type": "code",
   "execution_count": 1,
   "metadata": {
    "collapsed": true
   },
   "outputs": [],
   "source": [
    "import pandas as pd\n",
    "import numpy as np\n",
    "import matplotlib.pyplot as plt\n",
    "import seaborn as sns"
   ]
  },
  {
   "cell_type": "code",
   "execution_count": 2,
   "outputs": [],
   "source": [
    "path = 'C:/Users/khoat/OneDrive - National Economics University/Desktop/1. Study/3.1. Data Preparation & Visualiazation/Final/data/'"
   ],
   "metadata": {
    "collapsed": false,
    "pycharm": {
     "name": "#%%\n"
    }
   }
  },
  {
   "cell_type": "code",
   "execution_count": 3,
   "outputs": [],
   "source": [
    "sample = pd.read_csv(path + 'sample.csv')\n",
    "test = pd.read_csv(path + 'test.csv', sep=';')\n",
    "train = pd.read_csv(path + 'train.csv', sep=';')"
   ],
   "metadata": {
    "collapsed": false,
    "pycharm": {
     "name": "#%%\n"
    }
   }
  },
  {
   "cell_type": "code",
   "execution_count": 4,
   "outputs": [
    {
     "name": "stdout",
     "output_type": "stream",
     "text": [
      "<class 'pandas.core.frame.DataFrame'>\n",
      "RangeIndex: 6000 entries, 0 to 5999\n",
      "Data columns (total 13 columns):\n",
      " #   Column         Non-Null Count  Dtype  \n",
      "---  ------         --------------  -----  \n",
      " 0   name           6000 non-null   object \n",
      " 1   year           6000 non-null   int64  \n",
      " 2   selling_price  6000 non-null   int64  \n",
      " 3   km_driven      6000 non-null   int64  \n",
      " 4   fuel           6000 non-null   object \n",
      " 5   seller_type    6000 non-null   object \n",
      " 6   transmission   6000 non-null   object \n",
      " 7   owner          6000 non-null   object \n",
      " 8   mileage        5841 non-null   object \n",
      " 9   engine         5841 non-null   object \n",
      " 10  max_power      5846 non-null   object \n",
      " 11  torque         5840 non-null   object \n",
      " 12  seats          5841 non-null   float64\n",
      "dtypes: float64(1), int64(3), object(9)\n",
      "memory usage: 609.5+ KB\n"
     ]
    }
   ],
   "source": [
    "train.info()"
   ],
   "metadata": {
    "collapsed": false,
    "pycharm": {
     "name": "#%%\n"
    }
   }
  },
  {
   "cell_type": "code",
   "execution_count": 5,
   "outputs": [
    {
     "name": "stdout",
     "output_type": "stream",
     "text": [
      "<class 'pandas.core.frame.DataFrame'>\n",
      "RangeIndex: 2128 entries, 0 to 2127\n",
      "Data columns (total 13 columns):\n",
      " #   Column        Non-Null Count  Dtype  \n",
      "---  ------        --------------  -----  \n",
      " 0   Id            2128 non-null   int64  \n",
      " 1   name          2128 non-null   object \n",
      " 2   year          2128 non-null   int64  \n",
      " 3   km_driven     2128 non-null   int64  \n",
      " 4   fuel          2128 non-null   object \n",
      " 5   seller_type   2128 non-null   object \n",
      " 6   transmission  2128 non-null   object \n",
      " 7   owner         2128 non-null   object \n",
      " 8   mileage       2066 non-null   object \n",
      " 9   engine        2066 non-null   object \n",
      " 10  max_power     2067 non-null   object \n",
      " 11  torque        2066 non-null   object \n",
      " 12  seats         2066 non-null   float64\n",
      "dtypes: float64(1), int64(3), object(9)\n",
      "memory usage: 216.2+ KB\n"
     ]
    }
   ],
   "source": [
    "test.info()"
   ],
   "metadata": {
    "collapsed": false,
    "pycharm": {
     "name": "#%%\n"
    }
   }
  },
  {
   "cell_type": "code",
   "execution_count": 6,
   "outputs": [
    {
     "data": {
      "text/plain": "                                                  name  year  selling_price  \\\n0                           Tata Nexon 1.5 Revotorq XM  2018         850000   \n1                         Hyundai i20 Active SX Diesel  2018         750000   \n2                               Toyota Fortuner 4x2 AT  2015        1500000   \n3                            Hyundai Verna 1.6 VTVT SX  2015         795000   \n4                       Volvo XC40 D4 Inscription BSIV  2019        3800000   \n...                                                ...   ...            ...   \n5995                                 Maruti A-Star Lxi  2010         235000   \n5996                            Maruti Wagon R LXI CNG  2018         390000   \n5997                        Tata Tigor 1.2 Revotron XT  2018         450000   \n5998  Mahindra Bolero 2011-2019 DI NON AC BS III White  2011         250000   \n5999                             Honda Amaze SX i-DTEC  2016         550000   \n\n      km_driven    fuel seller_type transmission         owner     mileage  \\\n0          9500  Diesel  Individual       Manual   First Owner   21.5 kmpl   \n1         30000  Diesel  Individual       Manual   First Owner  21.19 kmpl   \n2         80000  Diesel  Individual    Automatic  Second Owner  12.55 kmpl   \n3         35000  Petrol  Individual       Manual   First Owner  17.01 kmpl   \n4         20000  Diesel  Individual    Automatic   First Owner   18.0 kmpl   \n...         ...     ...         ...          ...           ...         ...   \n5995      50000  Petrol  Individual       Manual   First Owner   19.0 kmpl   \n5996      40000     CNG  Individual       Manual   First Owner  26.6 km/kg   \n5997      75000  Petrol  Individual       Manual   First Owner   20.3 kmpl   \n5998     100000  Diesel  Individual       Manual  Second Owner  15.96 kmpl   \n5999      35000  Diesel  Individual       Manual   First Owner   25.8 kmpl   \n\n       engine  max_power                  torque  seats  \n0     1497 CC  108.5 bhp     260Nm@ 1500-2750rpm    5.0  \n1     1396 CC  88.76 bhp  219.66nm@ 1500-2750rpm    5.0  \n2     2982 CC  168.5 bhp     360Nm@ 1400-3200rpm    7.0  \n3     1591 CC  121.3 bhp        154.9Nm@ 4200rpm    5.0  \n4     1969 CC    190 bhp                   400Nm    5.0  \n...       ...        ...                     ...    ...  \n5995   998 CC   66.1 bhp           90Nm@ 3500rpm    5.0  \n5996   998 CC  58.16 bhp           77Nm@ 3500rpm    5.0  \n5997  1199 CC     84 bhp          114Nm@ 3500rpm    5.0  \n5998  2523 CC     63 bhp     180Nm@ 1440-1500rpm    9.0  \n5999  1498 CC   98.6 bhp          200Nm@ 1750rpm    5.0  \n\n[6000 rows x 13 columns]",
      "text/html": "<div>\n<style scoped>\n    .dataframe tbody tr th:only-of-type {\n        vertical-align: middle;\n    }\n\n    .dataframe tbody tr th {\n        vertical-align: top;\n    }\n\n    .dataframe thead th {\n        text-align: right;\n    }\n</style>\n<table border=\"1\" class=\"dataframe\">\n  <thead>\n    <tr style=\"text-align: right;\">\n      <th></th>\n      <th>name</th>\n      <th>year</th>\n      <th>selling_price</th>\n      <th>km_driven</th>\n      <th>fuel</th>\n      <th>seller_type</th>\n      <th>transmission</th>\n      <th>owner</th>\n      <th>mileage</th>\n      <th>engine</th>\n      <th>max_power</th>\n      <th>torque</th>\n      <th>seats</th>\n    </tr>\n  </thead>\n  <tbody>\n    <tr>\n      <th>0</th>\n      <td>Tata Nexon 1.5 Revotorq XM</td>\n      <td>2018</td>\n      <td>850000</td>\n      <td>9500</td>\n      <td>Diesel</td>\n      <td>Individual</td>\n      <td>Manual</td>\n      <td>First Owner</td>\n      <td>21.5 kmpl</td>\n      <td>1497 CC</td>\n      <td>108.5 bhp</td>\n      <td>260Nm@ 1500-2750rpm</td>\n      <td>5.0</td>\n    </tr>\n    <tr>\n      <th>1</th>\n      <td>Hyundai i20 Active SX Diesel</td>\n      <td>2018</td>\n      <td>750000</td>\n      <td>30000</td>\n      <td>Diesel</td>\n      <td>Individual</td>\n      <td>Manual</td>\n      <td>First Owner</td>\n      <td>21.19 kmpl</td>\n      <td>1396 CC</td>\n      <td>88.76 bhp</td>\n      <td>219.66nm@ 1500-2750rpm</td>\n      <td>5.0</td>\n    </tr>\n    <tr>\n      <th>2</th>\n      <td>Toyota Fortuner 4x2 AT</td>\n      <td>2015</td>\n      <td>1500000</td>\n      <td>80000</td>\n      <td>Diesel</td>\n      <td>Individual</td>\n      <td>Automatic</td>\n      <td>Second Owner</td>\n      <td>12.55 kmpl</td>\n      <td>2982 CC</td>\n      <td>168.5 bhp</td>\n      <td>360Nm@ 1400-3200rpm</td>\n      <td>7.0</td>\n    </tr>\n    <tr>\n      <th>3</th>\n      <td>Hyundai Verna 1.6 VTVT SX</td>\n      <td>2015</td>\n      <td>795000</td>\n      <td>35000</td>\n      <td>Petrol</td>\n      <td>Individual</td>\n      <td>Manual</td>\n      <td>First Owner</td>\n      <td>17.01 kmpl</td>\n      <td>1591 CC</td>\n      <td>121.3 bhp</td>\n      <td>154.9Nm@ 4200rpm</td>\n      <td>5.0</td>\n    </tr>\n    <tr>\n      <th>4</th>\n      <td>Volvo XC40 D4 Inscription BSIV</td>\n      <td>2019</td>\n      <td>3800000</td>\n      <td>20000</td>\n      <td>Diesel</td>\n      <td>Individual</td>\n      <td>Automatic</td>\n      <td>First Owner</td>\n      <td>18.0 kmpl</td>\n      <td>1969 CC</td>\n      <td>190 bhp</td>\n      <td>400Nm</td>\n      <td>5.0</td>\n    </tr>\n    <tr>\n      <th>...</th>\n      <td>...</td>\n      <td>...</td>\n      <td>...</td>\n      <td>...</td>\n      <td>...</td>\n      <td>...</td>\n      <td>...</td>\n      <td>...</td>\n      <td>...</td>\n      <td>...</td>\n      <td>...</td>\n      <td>...</td>\n      <td>...</td>\n    </tr>\n    <tr>\n      <th>5995</th>\n      <td>Maruti A-Star Lxi</td>\n      <td>2010</td>\n      <td>235000</td>\n      <td>50000</td>\n      <td>Petrol</td>\n      <td>Individual</td>\n      <td>Manual</td>\n      <td>First Owner</td>\n      <td>19.0 kmpl</td>\n      <td>998 CC</td>\n      <td>66.1 bhp</td>\n      <td>90Nm@ 3500rpm</td>\n      <td>5.0</td>\n    </tr>\n    <tr>\n      <th>5996</th>\n      <td>Maruti Wagon R LXI CNG</td>\n      <td>2018</td>\n      <td>390000</td>\n      <td>40000</td>\n      <td>CNG</td>\n      <td>Individual</td>\n      <td>Manual</td>\n      <td>First Owner</td>\n      <td>26.6 km/kg</td>\n      <td>998 CC</td>\n      <td>58.16 bhp</td>\n      <td>77Nm@ 3500rpm</td>\n      <td>5.0</td>\n    </tr>\n    <tr>\n      <th>5997</th>\n      <td>Tata Tigor 1.2 Revotron XT</td>\n      <td>2018</td>\n      <td>450000</td>\n      <td>75000</td>\n      <td>Petrol</td>\n      <td>Individual</td>\n      <td>Manual</td>\n      <td>First Owner</td>\n      <td>20.3 kmpl</td>\n      <td>1199 CC</td>\n      <td>84 bhp</td>\n      <td>114Nm@ 3500rpm</td>\n      <td>5.0</td>\n    </tr>\n    <tr>\n      <th>5998</th>\n      <td>Mahindra Bolero 2011-2019 DI NON AC BS III White</td>\n      <td>2011</td>\n      <td>250000</td>\n      <td>100000</td>\n      <td>Diesel</td>\n      <td>Individual</td>\n      <td>Manual</td>\n      <td>Second Owner</td>\n      <td>15.96 kmpl</td>\n      <td>2523 CC</td>\n      <td>63 bhp</td>\n      <td>180Nm@ 1440-1500rpm</td>\n      <td>9.0</td>\n    </tr>\n    <tr>\n      <th>5999</th>\n      <td>Honda Amaze SX i-DTEC</td>\n      <td>2016</td>\n      <td>550000</td>\n      <td>35000</td>\n      <td>Diesel</td>\n      <td>Individual</td>\n      <td>Manual</td>\n      <td>First Owner</td>\n      <td>25.8 kmpl</td>\n      <td>1498 CC</td>\n      <td>98.6 bhp</td>\n      <td>200Nm@ 1750rpm</td>\n      <td>5.0</td>\n    </tr>\n  </tbody>\n</table>\n<p>6000 rows × 13 columns</p>\n</div>"
     },
     "execution_count": 6,
     "metadata": {},
     "output_type": "execute_result"
    }
   ],
   "source": [
    "train"
   ],
   "metadata": {
    "collapsed": false,
    "pycharm": {
     "name": "#%%\n"
    }
   }
  },
  {
   "cell_type": "markdown",
   "source": [
    "from sklearn.preprocessing import OneHotEncoder\n",
    "one_hot_enc = OneHotEncoder(handle_unknown='ignore')"
   ],
   "metadata": {
    "collapsed": false,
    "pycharm": {
     "name": "#%% md\n"
    }
   }
  },
  {
   "cell_type": "markdown",
   "source": [
    "one_hot_enc.fit_transform(train.seller_type.reshape(-1, 1))"
   ],
   "metadata": {
    "collapsed": false,
    "pycharm": {
     "name": "#%% md\n"
    }
   }
  },
  {
   "cell_type": "code",
   "execution_count": 7,
   "outputs": [],
   "source": [
    "for i in [train, test]:\n",
    "    i['brand'] = i.name.str.split(n=1, expand=True)[0]"
   ],
   "metadata": {
    "collapsed": false,
    "pycharm": {
     "name": "#%%\n"
    }
   }
  },
  {
   "cell_type": "code",
   "execution_count": 8,
   "outputs": [],
   "source": [
    "for i in [train, test]:\n",
    "    i['n_mileage'] = i.mileage.str.split(n=1, expand=True)[0].astype('float64')"
   ],
   "metadata": {
    "collapsed": false,
    "pycharm": {
     "name": "#%%\n"
    }
   }
  },
  {
   "cell_type": "code",
   "execution_count": 9,
   "outputs": [],
   "source": [
    "for i in [train, test]:\n",
    "    i['n_engine'] = i.engine.str.split(n=1, expand=True)[0].astype('float64')"
   ],
   "metadata": {
    "collapsed": false,
    "pycharm": {
     "name": "#%%\n"
    }
   }
  },
  {
   "cell_type": "code",
   "execution_count": 10,
   "outputs": [],
   "source": [
    "for i in [train, test]:\n",
    "    i['n_max_power'] = (i.max_power.str.split(pat='b', n=1, expand=True)[0]).str.split(n=1, expand=True)[0].astype(\n",
    "        'float64')"
   ],
   "metadata": {
    "collapsed": false,
    "pycharm": {
     "name": "#%%\n"
    }
   }
  },
  {
   "cell_type": "code",
   "execution_count": 11,
   "outputs": [],
   "source": [
    "for i in [train, test]:\n",
    "    i['torque_nm'] = (((((i.torque.str.split(pat='N', n=1, expand=True)[0]).str.split(pat='n', n=1, expand=True)[0]).str.split(pat='@', n=1, expand=True)[0]).str.split(pat='k', n=1, expand=True)[0]).str.split(n=1, expand=True)[0]).str.split(pat='(', n=1, expand=True)[0].astype('float64')"
   ],
   "metadata": {
    "collapsed": false,
    "pycharm": {
     "name": "#%%\n"
    }
   }
  },
  {
   "cell_type": "code",
   "execution_count": 12,
   "outputs": [],
   "source": [
    "for i in [train, test]:\n",
    "    i['n_owner'] = i['owner'].copy()\n",
    "    i['n_owner'].replace(to_replace='First Owner', value=1, inplace=True)\n",
    "    i['n_owner'].replace(to_replace='Second Owner', value=2, inplace=True)\n",
    "    i['n_owner'].replace(to_replace='Third Owner', value=3, inplace=True)\n",
    "    i['n_owner'].replace(to_replace='Fourth & Above Owner', value=4, inplace=True)\n",
    "    i['n_owner'].replace(to_replace='Test Drive Car', value=0, inplace=True)"
   ],
   "metadata": {
    "collapsed": false,
    "pycharm": {
     "name": "#%%\n"
    }
   }
  },
  {
   "cell_type": "code",
   "execution_count": 13,
   "outputs": [
    {
     "name": "stdout",
     "output_type": "stream",
     "text": [
      "<class 'pandas.core.frame.DataFrame'>\n",
      "RangeIndex: 6000 entries, 0 to 5999\n",
      "Data columns (total 19 columns):\n",
      " #   Column         Non-Null Count  Dtype  \n",
      "---  ------         --------------  -----  \n",
      " 0   name           6000 non-null   object \n",
      " 1   year           6000 non-null   int64  \n",
      " 2   selling_price  6000 non-null   int64  \n",
      " 3   km_driven      6000 non-null   int64  \n",
      " 4   fuel           6000 non-null   object \n",
      " 5   seller_type    6000 non-null   object \n",
      " 6   transmission   6000 non-null   object \n",
      " 7   owner          6000 non-null   object \n",
      " 8   mileage        5841 non-null   object \n",
      " 9   engine         5841 non-null   object \n",
      " 10  max_power      5846 non-null   object \n",
      " 11  torque         5840 non-null   object \n",
      " 12  seats          5841 non-null   float64\n",
      " 13  brand          6000 non-null   object \n",
      " 14  n_mileage      5841 non-null   float64\n",
      " 15  n_engine       5841 non-null   float64\n",
      " 16  n_max_power    5845 non-null   float64\n",
      " 17  torque_nm      5840 non-null   float64\n",
      " 18  n_owner        6000 non-null   int64  \n",
      "dtypes: float64(5), int64(4), object(10)\n",
      "memory usage: 890.8+ KB\n"
     ]
    }
   ],
   "source": [
    "train.info()"
   ],
   "metadata": {
    "collapsed": false,
    "pycharm": {
     "name": "#%%\n"
    }
   }
  },
  {
   "cell_type": "code",
   "execution_count": 14,
   "outputs": [
    {
     "name": "stdout",
     "output_type": "stream",
     "text": [
      "<class 'pandas.core.frame.DataFrame'>\n",
      "RangeIndex: 2128 entries, 0 to 2127\n",
      "Data columns (total 19 columns):\n",
      " #   Column        Non-Null Count  Dtype  \n",
      "---  ------        --------------  -----  \n",
      " 0   Id            2128 non-null   int64  \n",
      " 1   name          2128 non-null   object \n",
      " 2   year          2128 non-null   int64  \n",
      " 3   km_driven     2128 non-null   int64  \n",
      " 4   fuel          2128 non-null   object \n",
      " 5   seller_type   2128 non-null   object \n",
      " 6   transmission  2128 non-null   object \n",
      " 7   owner         2128 non-null   object \n",
      " 8   mileage       2066 non-null   object \n",
      " 9   engine        2066 non-null   object \n",
      " 10  max_power     2067 non-null   object \n",
      " 11  torque        2066 non-null   object \n",
      " 12  seats         2066 non-null   float64\n",
      " 13  brand         2128 non-null   object \n",
      " 14  n_mileage     2066 non-null   float64\n",
      " 15  n_engine      2066 non-null   float64\n",
      " 16  n_max_power   2067 non-null   float64\n",
      " 17  torque_nm     2066 non-null   float64\n",
      " 18  n_owner       2128 non-null   int64  \n",
      "dtypes: float64(5), int64(4), object(10)\n",
      "memory usage: 316.0+ KB\n"
     ]
    }
   ],
   "source": [
    "test.info()"
   ],
   "metadata": {
    "collapsed": false,
    "pycharm": {
     "name": "#%%\n"
    }
   }
  },
  {
   "cell_type": "code",
   "execution_count": 15,
   "outputs": [],
   "source": [
    "for i in [train, test]:\n",
    "    i.fillna(i.mean(),inplace=True)"
   ],
   "metadata": {
    "collapsed": false,
    "pycharm": {
     "name": "#%%\n"
    }
   }
  },
  {
   "cell_type": "code",
   "execution_count": 16,
   "outputs": [
    {
     "data": {
      "text/plain": "                                                  name  year  selling_price  \\\n0                           Tata Nexon 1.5 Revotorq XM  2018         850000   \n1                         Hyundai i20 Active SX Diesel  2018         750000   \n2                               Toyota Fortuner 4x2 AT  2015        1500000   \n3                            Hyundai Verna 1.6 VTVT SX  2015         795000   \n4                       Volvo XC40 D4 Inscription BSIV  2019        3800000   \n...                                                ...   ...            ...   \n5995                                 Maruti A-Star Lxi  2010         235000   \n5996                            Maruti Wagon R LXI CNG  2018         390000   \n5997                        Tata Tigor 1.2 Revotron XT  2018         450000   \n5998  Mahindra Bolero 2011-2019 DI NON AC BS III White  2011         250000   \n5999                             Honda Amaze SX i-DTEC  2016         550000   \n\n      km_driven    fuel seller_type transmission         owner     mileage  \\\n0          9500  Diesel  Individual       Manual   First Owner   21.5 kmpl   \n1         30000  Diesel  Individual       Manual   First Owner  21.19 kmpl   \n2         80000  Diesel  Individual    Automatic  Second Owner  12.55 kmpl   \n3         35000  Petrol  Individual       Manual   First Owner  17.01 kmpl   \n4         20000  Diesel  Individual    Automatic   First Owner   18.0 kmpl   \n...         ...     ...         ...          ...           ...         ...   \n5995      50000  Petrol  Individual       Manual   First Owner   19.0 kmpl   \n5996      40000     CNG  Individual       Manual   First Owner  26.6 km/kg   \n5997      75000  Petrol  Individual       Manual   First Owner   20.3 kmpl   \n5998     100000  Diesel  Individual       Manual  Second Owner  15.96 kmpl   \n5999      35000  Diesel  Individual       Manual   First Owner   25.8 kmpl   \n\n       engine  max_power                  torque  seats     brand  n_mileage  \\\n0     1497 CC  108.5 bhp     260Nm@ 1500-2750rpm    5.0      Tata      21.50   \n1     1396 CC  88.76 bhp  219.66nm@ 1500-2750rpm    5.0   Hyundai      21.19   \n2     2982 CC  168.5 bhp     360Nm@ 1400-3200rpm    7.0    Toyota      12.55   \n3     1591 CC  121.3 bhp        154.9Nm@ 4200rpm    5.0   Hyundai      17.01   \n4     1969 CC    190 bhp                   400Nm    5.0     Volvo      18.00   \n...       ...        ...                     ...    ...       ...        ...   \n5995   998 CC   66.1 bhp           90Nm@ 3500rpm    5.0    Maruti      19.00   \n5996   998 CC  58.16 bhp           77Nm@ 3500rpm    5.0    Maruti      26.60   \n5997  1199 CC     84 bhp          114Nm@ 3500rpm    5.0      Tata      20.30   \n5998  2523 CC     63 bhp     180Nm@ 1440-1500rpm    9.0  Mahindra      15.96   \n5999  1498 CC   98.6 bhp          200Nm@ 1750rpm    5.0     Honda      25.80   \n\n      n_engine  n_max_power  torque_nm  n_owner  \n0       1497.0       108.50     260.00        1  \n1       1396.0        88.76     219.66        1  \n2       2982.0       168.50     360.00        2  \n3       1591.0       121.30     154.90        1  \n4       1969.0       190.00     400.00        1  \n...        ...          ...        ...      ...  \n5995     998.0        66.10      90.00        1  \n5996     998.0        58.16      77.00        1  \n5997    1199.0        84.00     114.00        1  \n5998    2523.0        63.00     180.00        2  \n5999    1498.0        98.60     200.00        1  \n\n[6000 rows x 19 columns]",
      "text/html": "<div>\n<style scoped>\n    .dataframe tbody tr th:only-of-type {\n        vertical-align: middle;\n    }\n\n    .dataframe tbody tr th {\n        vertical-align: top;\n    }\n\n    .dataframe thead th {\n        text-align: right;\n    }\n</style>\n<table border=\"1\" class=\"dataframe\">\n  <thead>\n    <tr style=\"text-align: right;\">\n      <th></th>\n      <th>name</th>\n      <th>year</th>\n      <th>selling_price</th>\n      <th>km_driven</th>\n      <th>fuel</th>\n      <th>seller_type</th>\n      <th>transmission</th>\n      <th>owner</th>\n      <th>mileage</th>\n      <th>engine</th>\n      <th>max_power</th>\n      <th>torque</th>\n      <th>seats</th>\n      <th>brand</th>\n      <th>n_mileage</th>\n      <th>n_engine</th>\n      <th>n_max_power</th>\n      <th>torque_nm</th>\n      <th>n_owner</th>\n    </tr>\n  </thead>\n  <tbody>\n    <tr>\n      <th>0</th>\n      <td>Tata Nexon 1.5 Revotorq XM</td>\n      <td>2018</td>\n      <td>850000</td>\n      <td>9500</td>\n      <td>Diesel</td>\n      <td>Individual</td>\n      <td>Manual</td>\n      <td>First Owner</td>\n      <td>21.5 kmpl</td>\n      <td>1497 CC</td>\n      <td>108.5 bhp</td>\n      <td>260Nm@ 1500-2750rpm</td>\n      <td>5.0</td>\n      <td>Tata</td>\n      <td>21.50</td>\n      <td>1497.0</td>\n      <td>108.50</td>\n      <td>260.00</td>\n      <td>1</td>\n    </tr>\n    <tr>\n      <th>1</th>\n      <td>Hyundai i20 Active SX Diesel</td>\n      <td>2018</td>\n      <td>750000</td>\n      <td>30000</td>\n      <td>Diesel</td>\n      <td>Individual</td>\n      <td>Manual</td>\n      <td>First Owner</td>\n      <td>21.19 kmpl</td>\n      <td>1396 CC</td>\n      <td>88.76 bhp</td>\n      <td>219.66nm@ 1500-2750rpm</td>\n      <td>5.0</td>\n      <td>Hyundai</td>\n      <td>21.19</td>\n      <td>1396.0</td>\n      <td>88.76</td>\n      <td>219.66</td>\n      <td>1</td>\n    </tr>\n    <tr>\n      <th>2</th>\n      <td>Toyota Fortuner 4x2 AT</td>\n      <td>2015</td>\n      <td>1500000</td>\n      <td>80000</td>\n      <td>Diesel</td>\n      <td>Individual</td>\n      <td>Automatic</td>\n      <td>Second Owner</td>\n      <td>12.55 kmpl</td>\n      <td>2982 CC</td>\n      <td>168.5 bhp</td>\n      <td>360Nm@ 1400-3200rpm</td>\n      <td>7.0</td>\n      <td>Toyota</td>\n      <td>12.55</td>\n      <td>2982.0</td>\n      <td>168.50</td>\n      <td>360.00</td>\n      <td>2</td>\n    </tr>\n    <tr>\n      <th>3</th>\n      <td>Hyundai Verna 1.6 VTVT SX</td>\n      <td>2015</td>\n      <td>795000</td>\n      <td>35000</td>\n      <td>Petrol</td>\n      <td>Individual</td>\n      <td>Manual</td>\n      <td>First Owner</td>\n      <td>17.01 kmpl</td>\n      <td>1591 CC</td>\n      <td>121.3 bhp</td>\n      <td>154.9Nm@ 4200rpm</td>\n      <td>5.0</td>\n      <td>Hyundai</td>\n      <td>17.01</td>\n      <td>1591.0</td>\n      <td>121.30</td>\n      <td>154.90</td>\n      <td>1</td>\n    </tr>\n    <tr>\n      <th>4</th>\n      <td>Volvo XC40 D4 Inscription BSIV</td>\n      <td>2019</td>\n      <td>3800000</td>\n      <td>20000</td>\n      <td>Diesel</td>\n      <td>Individual</td>\n      <td>Automatic</td>\n      <td>First Owner</td>\n      <td>18.0 kmpl</td>\n      <td>1969 CC</td>\n      <td>190 bhp</td>\n      <td>400Nm</td>\n      <td>5.0</td>\n      <td>Volvo</td>\n      <td>18.00</td>\n      <td>1969.0</td>\n      <td>190.00</td>\n      <td>400.00</td>\n      <td>1</td>\n    </tr>\n    <tr>\n      <th>...</th>\n      <td>...</td>\n      <td>...</td>\n      <td>...</td>\n      <td>...</td>\n      <td>...</td>\n      <td>...</td>\n      <td>...</td>\n      <td>...</td>\n      <td>...</td>\n      <td>...</td>\n      <td>...</td>\n      <td>...</td>\n      <td>...</td>\n      <td>...</td>\n      <td>...</td>\n      <td>...</td>\n      <td>...</td>\n      <td>...</td>\n      <td>...</td>\n    </tr>\n    <tr>\n      <th>5995</th>\n      <td>Maruti A-Star Lxi</td>\n      <td>2010</td>\n      <td>235000</td>\n      <td>50000</td>\n      <td>Petrol</td>\n      <td>Individual</td>\n      <td>Manual</td>\n      <td>First Owner</td>\n      <td>19.0 kmpl</td>\n      <td>998 CC</td>\n      <td>66.1 bhp</td>\n      <td>90Nm@ 3500rpm</td>\n      <td>5.0</td>\n      <td>Maruti</td>\n      <td>19.00</td>\n      <td>998.0</td>\n      <td>66.10</td>\n      <td>90.00</td>\n      <td>1</td>\n    </tr>\n    <tr>\n      <th>5996</th>\n      <td>Maruti Wagon R LXI CNG</td>\n      <td>2018</td>\n      <td>390000</td>\n      <td>40000</td>\n      <td>CNG</td>\n      <td>Individual</td>\n      <td>Manual</td>\n      <td>First Owner</td>\n      <td>26.6 km/kg</td>\n      <td>998 CC</td>\n      <td>58.16 bhp</td>\n      <td>77Nm@ 3500rpm</td>\n      <td>5.0</td>\n      <td>Maruti</td>\n      <td>26.60</td>\n      <td>998.0</td>\n      <td>58.16</td>\n      <td>77.00</td>\n      <td>1</td>\n    </tr>\n    <tr>\n      <th>5997</th>\n      <td>Tata Tigor 1.2 Revotron XT</td>\n      <td>2018</td>\n      <td>450000</td>\n      <td>75000</td>\n      <td>Petrol</td>\n      <td>Individual</td>\n      <td>Manual</td>\n      <td>First Owner</td>\n      <td>20.3 kmpl</td>\n      <td>1199 CC</td>\n      <td>84 bhp</td>\n      <td>114Nm@ 3500rpm</td>\n      <td>5.0</td>\n      <td>Tata</td>\n      <td>20.30</td>\n      <td>1199.0</td>\n      <td>84.00</td>\n      <td>114.00</td>\n      <td>1</td>\n    </tr>\n    <tr>\n      <th>5998</th>\n      <td>Mahindra Bolero 2011-2019 DI NON AC BS III White</td>\n      <td>2011</td>\n      <td>250000</td>\n      <td>100000</td>\n      <td>Diesel</td>\n      <td>Individual</td>\n      <td>Manual</td>\n      <td>Second Owner</td>\n      <td>15.96 kmpl</td>\n      <td>2523 CC</td>\n      <td>63 bhp</td>\n      <td>180Nm@ 1440-1500rpm</td>\n      <td>9.0</td>\n      <td>Mahindra</td>\n      <td>15.96</td>\n      <td>2523.0</td>\n      <td>63.00</td>\n      <td>180.00</td>\n      <td>2</td>\n    </tr>\n    <tr>\n      <th>5999</th>\n      <td>Honda Amaze SX i-DTEC</td>\n      <td>2016</td>\n      <td>550000</td>\n      <td>35000</td>\n      <td>Diesel</td>\n      <td>Individual</td>\n      <td>Manual</td>\n      <td>First Owner</td>\n      <td>25.8 kmpl</td>\n      <td>1498 CC</td>\n      <td>98.6 bhp</td>\n      <td>200Nm@ 1750rpm</td>\n      <td>5.0</td>\n      <td>Honda</td>\n      <td>25.80</td>\n      <td>1498.0</td>\n      <td>98.60</td>\n      <td>200.00</td>\n      <td>1</td>\n    </tr>\n  </tbody>\n</table>\n<p>6000 rows × 19 columns</p>\n</div>"
     },
     "execution_count": 16,
     "metadata": {},
     "output_type": "execute_result"
    }
   ],
   "source": [
    "train"
   ],
   "metadata": {
    "collapsed": false,
    "pycharm": {
     "name": "#%%\n"
    }
   }
  },
  {
   "cell_type": "code",
   "execution_count": 17,
   "outputs": [
    {
     "data": {
      "text/plain": "        Id                                     name  year  km_driven    fuel  \\\n0        1          Skoda Rapid 1.6 MPI AT Elegance  2016      11000  Petrol   \n1        2                      Honda City i VTEC V  2017      35000  Petrol   \n2        3        Hyundai Xcent 1.2 Kappa SX Option  2014      80000  Petrol   \n3        4  Mahindra Scorpio 2009-2014 SLE 7S BSIII  2014     145241  Diesel   \n4        5        Ford Ecosport 1.5 Diesel Titanium  2015      92651  Diesel   \n...    ...                                      ...   ...        ...     ...   \n2123  2124            Hyundai Grand i10 Nios Sportz  2020       2000  Petrol   \n2124  2125                   Maruti Swift Dzire VDI  2018     100000  Diesel   \n2125  2126                 Tata Indica V2 DLE BSIII  2011     172000  Diesel   \n2126  2127                Hyundai Creta 1.6 CRDi SX  2017      47000  Diesel   \n2127  2128                         Maruti Swift VXI  2012      24300  Petrol   \n\n     seller_type transmission         owner     mileage   engine  max_power  \\\n0         Dealer    Automatic   First Owner   14.3 kmpl  1598 CC  103.5 bhp   \n1     Individual       Manual   First Owner   17.8 kmpl  1497 CC  117.3 bhp   \n2     Individual       Manual   First Owner   19.1 kmpl  1197 CC     82 bhp   \n3     Individual       Manual   First Owner  12.05 kmpl  2179 CC    120 bhp   \n4         Dealer       Manual   First Owner   21.7 kmpl  1498 CC  98.96 bhp   \n...          ...          ...           ...         ...      ...        ...   \n2123      Dealer       Manual   First Owner   20.7 kmpl  1197 CC  81.86 bhp   \n2124  Individual       Manual  Second Owner   28.4 kmpl  1248 CC  74.02 bhp   \n2125  Individual       Manual  Second Owner  17.88 kmpl  1396 CC   52.8 bhp   \n2126  Individual       Manual  Second Owner  19.67 kmpl  1582 CC  126.2 bhp   \n2127      Dealer       Manual   First Owner  21.21 kmpl  1197 CC  81.80 bhp   \n\n                     torque  seats     brand  n_mileage  n_engine  \\\n0            153Nm@ 3800rpm    5.0     Skoda      14.30    1598.0   \n1            145Nm@ 4600rpm    5.0     Honda      17.80    1497.0   \n2            114Nm@ 4000rpm    5.0   Hyundai      19.10    1197.0   \n3       290Nm@ 1800-2800rpm    7.0  Mahindra      12.05    2179.0   \n4       215Nm@ 1750-2500rpm    5.0      Ford      21.70    1498.0   \n...                     ...    ...       ...        ...       ...   \n2123      113.75Nm@ 4000rpm    5.0   Hyundai      20.70    1197.0   \n2124         190Nm@ 2000rpm    5.0    Maruti      28.40    1248.0   \n2125          85Nm@ 2500rpm    5.0      Tata      17.88    1396.0   \n2126  259.9Nm@ 1900-2750rpm    5.0   Hyundai      19.67    1582.0   \n2127         113Nm@ 4200rpm    5.0    Maruti      21.21    1197.0   \n\n      n_max_power  torque_nm  n_owner  \n0          103.50     153.00        1  \n1          117.30     145.00        1  \n2           82.00     114.00        1  \n3          120.00     290.00        1  \n4           98.96     215.00        1  \n...           ...        ...      ...  \n2123        81.86     113.75        1  \n2124        74.02     190.00        2  \n2125        52.80      85.00        2  \n2126       126.20     259.90        2  \n2127        81.80     113.00        1  \n\n[2128 rows x 19 columns]",
      "text/html": "<div>\n<style scoped>\n    .dataframe tbody tr th:only-of-type {\n        vertical-align: middle;\n    }\n\n    .dataframe tbody tr th {\n        vertical-align: top;\n    }\n\n    .dataframe thead th {\n        text-align: right;\n    }\n</style>\n<table border=\"1\" class=\"dataframe\">\n  <thead>\n    <tr style=\"text-align: right;\">\n      <th></th>\n      <th>Id</th>\n      <th>name</th>\n      <th>year</th>\n      <th>km_driven</th>\n      <th>fuel</th>\n      <th>seller_type</th>\n      <th>transmission</th>\n      <th>owner</th>\n      <th>mileage</th>\n      <th>engine</th>\n      <th>max_power</th>\n      <th>torque</th>\n      <th>seats</th>\n      <th>brand</th>\n      <th>n_mileage</th>\n      <th>n_engine</th>\n      <th>n_max_power</th>\n      <th>torque_nm</th>\n      <th>n_owner</th>\n    </tr>\n  </thead>\n  <tbody>\n    <tr>\n      <th>0</th>\n      <td>1</td>\n      <td>Skoda Rapid 1.6 MPI AT Elegance</td>\n      <td>2016</td>\n      <td>11000</td>\n      <td>Petrol</td>\n      <td>Dealer</td>\n      <td>Automatic</td>\n      <td>First Owner</td>\n      <td>14.3 kmpl</td>\n      <td>1598 CC</td>\n      <td>103.5 bhp</td>\n      <td>153Nm@ 3800rpm</td>\n      <td>5.0</td>\n      <td>Skoda</td>\n      <td>14.30</td>\n      <td>1598.0</td>\n      <td>103.50</td>\n      <td>153.00</td>\n      <td>1</td>\n    </tr>\n    <tr>\n      <th>1</th>\n      <td>2</td>\n      <td>Honda City i VTEC V</td>\n      <td>2017</td>\n      <td>35000</td>\n      <td>Petrol</td>\n      <td>Individual</td>\n      <td>Manual</td>\n      <td>First Owner</td>\n      <td>17.8 kmpl</td>\n      <td>1497 CC</td>\n      <td>117.3 bhp</td>\n      <td>145Nm@ 4600rpm</td>\n      <td>5.0</td>\n      <td>Honda</td>\n      <td>17.80</td>\n      <td>1497.0</td>\n      <td>117.30</td>\n      <td>145.00</td>\n      <td>1</td>\n    </tr>\n    <tr>\n      <th>2</th>\n      <td>3</td>\n      <td>Hyundai Xcent 1.2 Kappa SX Option</td>\n      <td>2014</td>\n      <td>80000</td>\n      <td>Petrol</td>\n      <td>Individual</td>\n      <td>Manual</td>\n      <td>First Owner</td>\n      <td>19.1 kmpl</td>\n      <td>1197 CC</td>\n      <td>82 bhp</td>\n      <td>114Nm@ 4000rpm</td>\n      <td>5.0</td>\n      <td>Hyundai</td>\n      <td>19.10</td>\n      <td>1197.0</td>\n      <td>82.00</td>\n      <td>114.00</td>\n      <td>1</td>\n    </tr>\n    <tr>\n      <th>3</th>\n      <td>4</td>\n      <td>Mahindra Scorpio 2009-2014 SLE 7S BSIII</td>\n      <td>2014</td>\n      <td>145241</td>\n      <td>Diesel</td>\n      <td>Individual</td>\n      <td>Manual</td>\n      <td>First Owner</td>\n      <td>12.05 kmpl</td>\n      <td>2179 CC</td>\n      <td>120 bhp</td>\n      <td>290Nm@ 1800-2800rpm</td>\n      <td>7.0</td>\n      <td>Mahindra</td>\n      <td>12.05</td>\n      <td>2179.0</td>\n      <td>120.00</td>\n      <td>290.00</td>\n      <td>1</td>\n    </tr>\n    <tr>\n      <th>4</th>\n      <td>5</td>\n      <td>Ford Ecosport 1.5 Diesel Titanium</td>\n      <td>2015</td>\n      <td>92651</td>\n      <td>Diesel</td>\n      <td>Dealer</td>\n      <td>Manual</td>\n      <td>First Owner</td>\n      <td>21.7 kmpl</td>\n      <td>1498 CC</td>\n      <td>98.96 bhp</td>\n      <td>215Nm@ 1750-2500rpm</td>\n      <td>5.0</td>\n      <td>Ford</td>\n      <td>21.70</td>\n      <td>1498.0</td>\n      <td>98.96</td>\n      <td>215.00</td>\n      <td>1</td>\n    </tr>\n    <tr>\n      <th>...</th>\n      <td>...</td>\n      <td>...</td>\n      <td>...</td>\n      <td>...</td>\n      <td>...</td>\n      <td>...</td>\n      <td>...</td>\n      <td>...</td>\n      <td>...</td>\n      <td>...</td>\n      <td>...</td>\n      <td>...</td>\n      <td>...</td>\n      <td>...</td>\n      <td>...</td>\n      <td>...</td>\n      <td>...</td>\n      <td>...</td>\n      <td>...</td>\n    </tr>\n    <tr>\n      <th>2123</th>\n      <td>2124</td>\n      <td>Hyundai Grand i10 Nios Sportz</td>\n      <td>2020</td>\n      <td>2000</td>\n      <td>Petrol</td>\n      <td>Dealer</td>\n      <td>Manual</td>\n      <td>First Owner</td>\n      <td>20.7 kmpl</td>\n      <td>1197 CC</td>\n      <td>81.86 bhp</td>\n      <td>113.75Nm@ 4000rpm</td>\n      <td>5.0</td>\n      <td>Hyundai</td>\n      <td>20.70</td>\n      <td>1197.0</td>\n      <td>81.86</td>\n      <td>113.75</td>\n      <td>1</td>\n    </tr>\n    <tr>\n      <th>2124</th>\n      <td>2125</td>\n      <td>Maruti Swift Dzire VDI</td>\n      <td>2018</td>\n      <td>100000</td>\n      <td>Diesel</td>\n      <td>Individual</td>\n      <td>Manual</td>\n      <td>Second Owner</td>\n      <td>28.4 kmpl</td>\n      <td>1248 CC</td>\n      <td>74.02 bhp</td>\n      <td>190Nm@ 2000rpm</td>\n      <td>5.0</td>\n      <td>Maruti</td>\n      <td>28.40</td>\n      <td>1248.0</td>\n      <td>74.02</td>\n      <td>190.00</td>\n      <td>2</td>\n    </tr>\n    <tr>\n      <th>2125</th>\n      <td>2126</td>\n      <td>Tata Indica V2 DLE BSIII</td>\n      <td>2011</td>\n      <td>172000</td>\n      <td>Diesel</td>\n      <td>Individual</td>\n      <td>Manual</td>\n      <td>Second Owner</td>\n      <td>17.88 kmpl</td>\n      <td>1396 CC</td>\n      <td>52.8 bhp</td>\n      <td>85Nm@ 2500rpm</td>\n      <td>5.0</td>\n      <td>Tata</td>\n      <td>17.88</td>\n      <td>1396.0</td>\n      <td>52.80</td>\n      <td>85.00</td>\n      <td>2</td>\n    </tr>\n    <tr>\n      <th>2126</th>\n      <td>2127</td>\n      <td>Hyundai Creta 1.6 CRDi SX</td>\n      <td>2017</td>\n      <td>47000</td>\n      <td>Diesel</td>\n      <td>Individual</td>\n      <td>Manual</td>\n      <td>Second Owner</td>\n      <td>19.67 kmpl</td>\n      <td>1582 CC</td>\n      <td>126.2 bhp</td>\n      <td>259.9Nm@ 1900-2750rpm</td>\n      <td>5.0</td>\n      <td>Hyundai</td>\n      <td>19.67</td>\n      <td>1582.0</td>\n      <td>126.20</td>\n      <td>259.90</td>\n      <td>2</td>\n    </tr>\n    <tr>\n      <th>2127</th>\n      <td>2128</td>\n      <td>Maruti Swift VXI</td>\n      <td>2012</td>\n      <td>24300</td>\n      <td>Petrol</td>\n      <td>Dealer</td>\n      <td>Manual</td>\n      <td>First Owner</td>\n      <td>21.21 kmpl</td>\n      <td>1197 CC</td>\n      <td>81.80 bhp</td>\n      <td>113Nm@ 4200rpm</td>\n      <td>5.0</td>\n      <td>Maruti</td>\n      <td>21.21</td>\n      <td>1197.0</td>\n      <td>81.80</td>\n      <td>113.00</td>\n      <td>1</td>\n    </tr>\n  </tbody>\n</table>\n<p>2128 rows × 19 columns</p>\n</div>"
     },
     "execution_count": 17,
     "metadata": {},
     "output_type": "execute_result"
    }
   ],
   "source": [
    "test"
   ],
   "metadata": {
    "collapsed": false,
    "pycharm": {
     "name": "#%%\n"
    }
   }
  },
  {
   "cell_type": "code",
   "execution_count": 18,
   "outputs": [
    {
     "data": {
      "text/plain": "<AxesSubplot:>"
     },
     "execution_count": 18,
     "metadata": {},
     "output_type": "execute_result"
    },
    {
     "data": {
      "text/plain": "<Figure size 720x432 with 2 Axes>",
      "image/png": "[encoded data removed]"
     },
     "metadata": {
      "needs_background": "light"
     },
     "output_type": "display_data"
    }
   ],
   "source": [
    "plt.figure(figsize=(10,6))\n",
    "sns.heatmap(train.corr(),annot=True)"
   ],
   "metadata": {
    "collapsed": false,
    "pycharm": {
     "name": "#%%\n"
    }
   }
  },
  {
   "cell_type": "code",
   "execution_count": 19,
   "outputs": [
    {
     "name": "stderr",
     "output_type": "stream",
     "text": [
      "C:\\Users\\khoat\\anaconda3\\lib\\site-packages\\pandas\\plotting\\_matplotlib\\__init__.py:61: UserWarning: To output multiple subplots, the figure containing the passed axes is being cleared\n",
      "  plot_obj.generate()\n"
     ]
    },
    {
     "data": {
      "text/plain": "year                AxesSubplot(0.125,0.536818;0.133621x0.343182)\nselling_price    AxesSubplot(0.285345,0.536818;0.133621x0.343182)\nkm_driven         AxesSubplot(0.44569,0.536818;0.133621x0.343182)\nseats            AxesSubplot(0.606034,0.536818;0.133621x0.343182)\nn_mileage        AxesSubplot(0.766379,0.536818;0.133621x0.343182)\nn_engine               AxesSubplot(0.125,0.125;0.133621x0.343182)\nn_max_power         AxesSubplot(0.285345,0.125;0.133621x0.343182)\ntorque_nm            AxesSubplot(0.44569,0.125;0.133621x0.343182)\nn_owner             AxesSubplot(0.606034,0.125;0.133621x0.343182)\ndtype: object"
     },
     "execution_count": 19,
     "metadata": {},
     "output_type": "execute_result"
    },
    {
     "data": {
      "text/plain": "<Figure size 1512x504 with 10 Axes>",
      "image/png": "[encoded data removed]"
     },
     "metadata": {
      "needs_background": "light"
     },
     "output_type": "display_data"
    }
   ],
   "source": [
    "fig = plt.figure(figsize = (21,7))\n",
    "ax = fig.gca()\n",
    "train.plot(kind='box', subplots=True, layout=(2,5), sharex=False, sharey=False, fontsize=8, ax=ax)"
   ],
   "metadata": {
    "collapsed": false,
    "pycharm": {
     "name": "#%%\n"
    }
   }
  },
  {
   "cell_type": "code",
   "execution_count": 20,
   "outputs": [],
   "source": [
    "train = train[train['selling_price'] < 2000000]\n",
    "train = train[train['km_driven'] < 250000]\n",
    "train = train[train['n_engine'] < 2400]\n",
    "train = train[train['n_max_power'] < 190]\n",
    "train = train[train['torque_nm'] < 400]"
   ],
   "metadata": {
    "collapsed": false,
    "pycharm": {
     "name": "#%%\n"
    }
   }
  },
  {
   "cell_type": "code",
   "execution_count": 21,
   "outputs": [
    {
     "data": {
      "text/plain": "                                     name  year  selling_price  km_driven  \\\n0              Tata Nexon 1.5 Revotorq XM  2018         850000       9500   \n1            Hyundai i20 Active SX Diesel  2018         750000      30000   \n3               Hyundai Verna 1.6 VTVT SX  2015         795000      35000   \n5     Fiat Avventura Power Up 1.3 Emotion  2015         500000      96500   \n6          Hyundai i10 Magna 1.2 iTech SE  2013         325000      70000   \n...                                   ...   ...            ...        ...   \n5994                  Honda City i DTEC V  2015         725000      50000   \n5995                    Maruti A-Star Lxi  2010         235000      50000   \n5996               Maruti Wagon R LXI CNG  2018         390000      40000   \n5997           Tata Tigor 1.2 Revotron XT  2018         450000      75000   \n5999                Honda Amaze SX i-DTEC  2016         550000      35000   \n\n        fuel seller_type transmission         owner     mileage   engine  \\\n0     Diesel  Individual       Manual   First Owner   21.5 kmpl  1497 CC   \n1     Diesel  Individual       Manual   First Owner  21.19 kmpl  1396 CC   \n3     Petrol  Individual       Manual   First Owner  17.01 kmpl  1591 CC   \n5     Diesel  Individual       Manual   First Owner   20.5 kmpl  1248 CC   \n6     Petrol  Individual       Manual   First Owner  20.36 kmpl  1197 CC   \n...      ...         ...          ...           ...         ...      ...   \n5994  Diesel  Individual       Manual  Second Owner   26.0 kmpl  1498 CC   \n5995  Petrol  Individual       Manual   First Owner   19.0 kmpl   998 CC   \n5996     CNG  Individual       Manual   First Owner  26.6 km/kg   998 CC   \n5997  Petrol  Individual       Manual   First Owner   20.3 kmpl  1199 CC   \n5999  Diesel  Individual       Manual   First Owner   25.8 kmpl  1498 CC   \n\n      max_power                  torque  seats    brand  n_mileage  n_engine  \\\n0     108.5 bhp     260Nm@ 1500-2750rpm    5.0     Tata      21.50    1497.0   \n1     88.76 bhp  219.66nm@ 1500-2750rpm    5.0  Hyundai      21.19    1396.0   \n3     121.3 bhp        154.9Nm@ 4200rpm    5.0  Hyundai      17.01    1591.0   \n5     91.72 bhp          209Nm@ 2000rpm    5.0     Fiat      20.50    1248.0   \n6      78.9 bhp        111.7Nm@ 4000rpm    5.0  Hyundai      20.36    1197.0   \n...         ...                     ...    ...      ...        ...       ...   \n5994   98.6 bhp          200Nm@ 1750rpm    5.0    Honda      26.00    1498.0   \n5995   66.1 bhp           90Nm@ 3500rpm    5.0   Maruti      19.00     998.0   \n5996  58.16 bhp           77Nm@ 3500rpm    5.0   Maruti      26.60     998.0   \n5997     84 bhp          114Nm@ 3500rpm    5.0     Tata      20.30    1199.0   \n5999   98.6 bhp          200Nm@ 1750rpm    5.0    Honda      25.80    1498.0   \n\n      n_max_power  torque_nm  n_owner  \n0          108.50     260.00        1  \n1           88.76     219.66        1  \n3          121.30     154.90        1  \n5           91.72     209.00        1  \n6           78.90     111.70        1  \n...           ...        ...      ...  \n5994        98.60     200.00        2  \n5995        66.10      90.00        1  \n5996        58.16      77.00        1  \n5997        84.00     114.00        1  \n5999        98.60     200.00        1  \n\n[5176 rows x 19 columns]",
      "text/html": "<div>\n<style scoped>\n    .dataframe tbody tr th:only-of-type {\n        vertical-align: middle;\n    }\n\n    .dataframe tbody tr th {\n        vertical-align: top;\n    }\n\n    .dataframe thead th {\n        text-align: right;\n    }\n</style>\n<table border=\"1\" class=\"dataframe\">\n  <thead>\n    <tr style=\"text-align: right;\">\n      <th></th>\n      <th>name</th>\n      <th>year</th>\n      <th>selling_price</th>\n      <th>km_driven</th>\n      <th>fuel</th>\n      <th>seller_type</th>\n      <th>transmission</th>\n      <th>owner</th>\n      <th>mileage</th>\n      <th>engine</th>\n      <th>max_power</th>\n      <th>torque</th>\n      <th>seats</th>\n      <th>brand</th>\n      <th>n_mileage</th>\n      <th>n_engine</th>\n      <th>n_max_power</th>\n      <th>torque_nm</th>\n      <th>n_owner</th>\n    </tr>\n  </thead>\n  <tbody>\n    <tr>\n      <th>0</th>\n      <td>Tata Nexon 1.5 Revotorq XM</td>\n      <td>2018</td>\n      <td>850000</td>\n      <td>9500</td>\n      <td>Diesel</td>\n      <td>Individual</td>\n      <td>Manual</td>\n      <td>First Owner</td>\n      <td>21.5 kmpl</td>\n      <td>1497 CC</td>\n      <td>108.5 bhp</td>\n      <td>260Nm@ 1500-2750rpm</td>\n      <td>5.0</td>\n      <td>Tata</td>\n      <td>21.50</td>\n      <td>1497.0</td>\n      <td>108.50</td>\n      <td>260.00</td>\n      <td>1</td>\n    </tr>\n    <tr>\n      <th>1</th>\n      <td>Hyundai i20 Active SX Diesel</td>\n      <td>2018</td>\n      <td>750000</td>\n      <td>30000</td>\n      <td>Diesel</td>\n      <td>Individual</td>\n      <td>Manual</td>\n      <td>First Owner</td>\n      <td>21.19 kmpl</td>\n      <td>1396 CC</td>\n      <td>88.76 bhp</td>\n      <td>219.66nm@ 1500-2750rpm</td>\n      <td>5.0</td>\n      <td>Hyundai</td>\n      <td>21.19</td>\n      <td>1396.0</td>\n      <td>88.76</td>\n      <td>219.66</td>\n      <td>1</td>\n    </tr>\n    <tr>\n      <th>3</th>\n      <td>Hyundai Verna 1.6 VTVT SX</td>\n      <td>2015</td>\n      <td>795000</td>\n      <td>35000</td>\n      <td>Petrol</td>\n      <td>Individual</td>\n      <td>Manual</td>\n      <td>First Owner</td>\n      <td>17.01 kmpl</td>\n      <td>1591 CC</td>\n      <td>121.3 bhp</td>\n      <td>154.9Nm@ 4200rpm</td>\n      <td>5.0</td>\n      <td>Hyundai</td>\n      <td>17.01</td>\n      <td>1591.0</td>\n      <td>121.30</td>\n      <td>154.90</td>\n      <td>1</td>\n    </tr>\n    <tr>\n      <th>5</th>\n      <td>Fiat Avventura Power Up 1.3 Emotion</td>\n      <td>2015</td>\n      <td>500000</td>\n      <td>96500</td>\n      <td>Diesel</td>\n      <td>Individual</td>\n      <td>Manual</td>\n      <td>First Owner</td>\n      <td>20.5 kmpl</td>\n      <td>1248 CC</td>\n      <td>91.72 bhp</td>\n      <td>209Nm@ 2000rpm</td>\n      <td>5.0</td>\n      <td>Fiat</td>\n      <td>20.50</td>\n      <td>1248.0</td>\n      <td>91.72</td>\n      <td>209.00</td>\n      <td>1</td>\n    </tr>\n    <tr>\n      <th>6</th>\n      <td>Hyundai i10 Magna 1.2 iTech SE</td>\n      <td>2013</td>\n      <td>325000</td>\n      <td>70000</td>\n      <td>Petrol</td>\n      <td>Individual</td>\n      <td>Manual</td>\n      <td>First Owner</td>\n      <td>20.36 kmpl</td>\n      <td>1197 CC</td>\n      <td>78.9 bhp</td>\n      <td>111.7Nm@ 4000rpm</td>\n      <td>5.0</td>\n      <td>Hyundai</td>\n      <td>20.36</td>\n      <td>1197.0</td>\n      <td>78.90</td>\n      <td>111.70</td>\n      <td>1</td>\n    </tr>\n    <tr>\n      <th>...</th>\n      <td>...</td>\n      <td>...</td>\n      <td>...</td>\n      <td>...</td>\n      <td>...</td>\n      <td>...</td>\n      <td>...</td>\n      <td>...</td>\n      <td>...</td>\n      <td>...</td>\n      <td>...</td>\n      <td>...</td>\n      <td>...</td>\n      <td>...</td>\n      <td>...</td>\n      <td>...</td>\n      <td>...</td>\n      <td>...</td>\n      <td>...</td>\n    </tr>\n    <tr>\n      <th>5994</th>\n      <td>Honda City i DTEC V</td>\n      <td>2015</td>\n      <td>725000</td>\n      <td>50000</td>\n      <td>Diesel</td>\n      <td>Individual</td>\n      <td>Manual</td>\n      <td>Second Owner</td>\n      <td>26.0 kmpl</td>\n      <td>1498 CC</td>\n      <td>98.6 bhp</td>\n      <td>200Nm@ 1750rpm</td>\n      <td>5.0</td>\n      <td>Honda</td>\n      <td>26.00</td>\n      <td>1498.0</td>\n      <td>98.60</td>\n      <td>200.00</td>\n      <td>2</td>\n    </tr>\n    <tr>\n      <th>5995</th>\n      <td>Maruti A-Star Lxi</td>\n      <td>2010</td>\n      <td>235000</td>\n      <td>50000</td>\n      <td>Petrol</td>\n      <td>Individual</td>\n      <td>Manual</td>\n      <td>First Owner</td>\n      <td>19.0 kmpl</td>\n      <td>998 CC</td>\n      <td>66.1 bhp</td>\n      <td>90Nm@ 3500rpm</td>\n      <td>5.0</td>\n      <td>Maruti</td>\n      <td>19.00</td>\n      <td>998.0</td>\n      <td>66.10</td>\n      <td>90.00</td>\n      <td>1</td>\n    </tr>\n    <tr>\n      <th>5996</th>\n      <td>Maruti Wagon R LXI CNG</td>\n      <td>2018</td>\n      <td>390000</td>\n      <td>40000</td>\n      <td>CNG</td>\n      <td>Individual</td>\n      <td>Manual</td>\n      <td>First Owner</td>\n      <td>26.6 km/kg</td>\n      <td>998 CC</td>\n      <td>58.16 bhp</td>\n      <td>77Nm@ 3500rpm</td>\n      <td>5.0</td>\n      <td>Maruti</td>\n      <td>26.60</td>\n      <td>998.0</td>\n      <td>58.16</td>\n      <td>77.00</td>\n      <td>1</td>\n    </tr>\n    <tr>\n      <th>5997</th>\n      <td>Tata Tigor 1.2 Revotron XT</td>\n      <td>2018</td>\n      <td>450000</td>\n      <td>75000</td>\n      <td>Petrol</td>\n      <td>Individual</td>\n      <td>Manual</td>\n      <td>First Owner</td>\n      <td>20.3 kmpl</td>\n      <td>1199 CC</td>\n      <td>84 bhp</td>\n      <td>114Nm@ 3500rpm</td>\n      <td>5.0</td>\n      <td>Tata</td>\n      <td>20.30</td>\n      <td>1199.0</td>\n      <td>84.00</td>\n      <td>114.00</td>\n      <td>1</td>\n    </tr>\n    <tr>\n      <th>5999</th>\n      <td>Honda Amaze SX i-DTEC</td>\n      <td>2016</td>\n      <td>550000</td>\n      <td>35000</td>\n      <td>Diesel</td>\n      <td>Individual</td>\n      <td>Manual</td>\n      <td>First Owner</td>\n      <td>25.8 kmpl</td>\n      <td>1498 CC</td>\n      <td>98.6 bhp</td>\n      <td>200Nm@ 1750rpm</td>\n      <td>5.0</td>\n      <td>Honda</td>\n      <td>25.80</td>\n      <td>1498.0</td>\n      <td>98.60</td>\n      <td>200.00</td>\n      <td>1</td>\n    </tr>\n  </tbody>\n</table>\n<p>5176 rows × 19 columns</p>\n</div>"
     },
     "execution_count": 21,
     "metadata": {},
     "output_type": "execute_result"
    }
   ],
   "source": [
    "train"
   ],
   "metadata": {
    "collapsed": false,
    "pycharm": {
     "name": "#%%\n"
    }
   }
  },
  {
   "cell_type": "code",
   "execution_count": 22,
   "outputs": [],
   "source": [
    "x = train[['year', 'km_driven', 'seats', 'n_mileage', 'n_engine', 'n_max_power', 'torque_nm', 'n_owner']]\n",
    "y = train['selling_price']"
   ],
   "metadata": {
    "collapsed": false,
    "pycharm": {
     "name": "#%%\n"
    }
   }
  },
  {
   "cell_type": "code",
   "execution_count": 23,
   "outputs": [],
   "source": [
    "x_test = test[['year', 'km_driven', 'seats', 'n_mileage', 'n_engine', 'n_max_power', 'torque_nm', 'n_owner']]"
   ],
   "metadata": {
    "collapsed": false,
    "pycharm": {
     "name": "#%%\n"
    }
   }
  },
  {
   "cell_type": "code",
   "execution_count": 24,
   "outputs": [],
   "source": [
    "from sklearn.model_selection import train_test_split\n",
    "x_train,x_val,y_train,y_val= train_test_split(x,y,test_size=0.2,random_state=21)"
   ],
   "metadata": {
    "collapsed": false,
    "pycharm": {
     "name": "#%%\n"
    }
   }
  },
  {
   "cell_type": "code",
   "execution_count": 25,
   "outputs": [
    {
     "data": {
      "text/plain": "LinearRegression()"
     },
     "execution_count": 25,
     "metadata": {},
     "output_type": "execute_result"
    }
   ],
   "source": [
    "from sklearn.linear_model import LinearRegression\n",
    "# Fit the model\n",
    "lm = LinearRegression()\n",
    "lm.fit(x_train,y_train)"
   ],
   "metadata": {
    "collapsed": false,
    "pycharm": {
     "name": "#%%\n"
    }
   }
  },
  {
   "cell_type": "code",
   "execution_count": 26,
   "outputs": [
    {
     "data": {
      "text/plain": "array([ 3.06570361e+04, -1.03090842e+00, -4.39397754e+03,  1.97885189e+02,\n       -5.13088753e+00,  4.68139575e+03,  8.46139216e+02, -1.85715827e+04])"
     },
     "execution_count": 26,
     "metadata": {},
     "output_type": "execute_result"
    }
   ],
   "source": [
    "lm.coef_"
   ],
   "metadata": {
    "collapsed": false,
    "pycharm": {
     "name": "#%%\n"
    }
   }
  },
  {
   "cell_type": "code",
   "execution_count": 27,
   "outputs": [],
   "source": [
    "train_pred = lm.predict(x_train)\n",
    "val_pred = lm.predict(x_val)"
   ],
   "metadata": {
    "collapsed": false,
    "pycharm": {
     "name": "#%%\n"
    }
   }
  },
  {
   "cell_type": "code",
   "execution_count": 28,
   "outputs": [
    {
     "name": "stdout",
     "output_type": "stream",
     "text": [
      "Train set:\n",
      "RMSE: 158839.6685339503\n"
     ]
    }
   ],
   "source": [
    "from sklearn import metrics\n",
    "print('Train set:')\n",
    "print('RMSE:', np.sqrt(metrics.mean_squared_error(y_train, train_pred)))"
   ],
   "metadata": {
    "collapsed": false,
    "pycharm": {
     "name": "#%%\n"
    }
   }
  },
  {
   "cell_type": "code",
   "execution_count": 29,
   "outputs": [
    {
     "name": "stdout",
     "output_type": "stream",
     "text": [
      "Validation set:\n",
      "RMSE: 155686.1276970767\n"
     ]
    }
   ],
   "source": [
    "print('Validation set:')\n",
    "print('RMSE:', np.sqrt(metrics.mean_squared_error(y_val, val_pred)))"
   ],
   "metadata": {
    "collapsed": false,
    "pycharm": {
     "name": "#%%\n"
    }
   }
  },
  {
   "cell_type": "code",
   "execution_count": 30,
   "outputs": [],
   "source": [
    "test_pred = lm.predict(x_test)"
   ],
   "metadata": {
    "collapsed": false,
    "pycharm": {
     "name": "#%%\n"
    }
   }
  },
  {
   "cell_type": "code",
   "execution_count": 31,
   "outputs": [],
   "source": [
    "submit = sample.copy()"
   ],
   "metadata": {
    "collapsed": false,
    "pycharm": {
     "name": "#%%\n"
    }
   }
  },
  {
   "cell_type": "code",
   "execution_count": 32,
   "outputs": [],
   "source": [
    "submit.Predicted = test_pred"
   ],
   "metadata": {
    "collapsed": false,
    "pycharm": {
     "name": "#%%\n"
    }
   }
  },
  {
   "cell_type": "code",
   "execution_count": 33,
   "outputs": [
    {
     "data": {
      "text/plain": "        Id      Predicted\n0        1  681358.585371\n1        2  746318.784623\n2        3  418269.728751\n3        4  662604.195350\n4        5  599711.379355\n...    ...            ...\n2123  2124  682072.488401\n2124  2125  530235.821201\n2125  2126   50386.203162\n2126  2127  854196.038764\n2127  2128  413012.375263\n\n[2128 rows x 2 columns]",
      "text/html": "<div>\n<style scoped>\n    .dataframe tbody tr th:only-of-type {\n        vertical-align: middle;\n    }\n\n    .dataframe tbody tr th {\n        vertical-align: top;\n    }\n\n    .dataframe thead th {\n        text-align: right;\n    }\n</style>\n<table border=\"1\" class=\"dataframe\">\n  <thead>\n    <tr style=\"text-align: right;\">\n      <th></th>\n      <th>Id</th>\n      <th>Predicted</th>\n    </tr>\n  </thead>\n  <tbody>\n    <tr>\n      <th>0</th>\n      <td>1</td>\n      <td>681358.585371</td>\n    </tr>\n    <tr>\n      <th>1</th>\n      <td>2</td>\n      <td>746318.784623</td>\n    </tr>\n    <tr>\n      <th>2</th>\n      <td>3</td>\n      <td>418269.728751</td>\n    </tr>\n    <tr>\n      <th>3</th>\n      <td>4</td>\n      <td>662604.195350</td>\n    </tr>\n    <tr>\n      <th>4</th>\n      <td>5</td>\n      <td>599711.379355</td>\n    </tr>\n    <tr>\n      <th>...</th>\n      <td>...</td>\n      <td>...</td>\n    </tr>\n    <tr>\n      <th>2123</th>\n      <td>2124</td>\n      <td>682072.488401</td>\n    </tr>\n    <tr>\n      <th>2124</th>\n      <td>2125</td>\n      <td>530235.821201</td>\n    </tr>\n    <tr>\n      <th>2125</th>\n      <td>2126</td>\n      <td>50386.203162</td>\n    </tr>\n    <tr>\n      <th>2126</th>\n      <td>2127</td>\n      <td>854196.038764</td>\n    </tr>\n    <tr>\n      <th>2127</th>\n      <td>2128</td>\n      <td>413012.375263</td>\n    </tr>\n  </tbody>\n</table>\n<p>2128 rows × 2 columns</p>\n</div>"
     },
     "execution_count": 33,
     "metadata": {},
     "output_type": "execute_result"
    }
   ],
   "source": [
    "submit"
   ],
   "metadata": {
    "collapsed": false,
    "pycharm": {
     "name": "#%%\n"
    }
   }
  },
  {
   "cell_type": "code",
   "execution_count": 34,
   "outputs": [
    {
     "data": {
      "text/plain": "497928.3305118016"
     },
     "execution_count": 34,
     "metadata": {},
     "output_type": "execute_result"
    }
   ],
   "source": [
    "submit.Predicted.mean()"
   ],
   "metadata": {
    "collapsed": false,
    "pycharm": {
     "name": "#%%\n"
    }
   }
  },
  {
   "cell_type": "code",
   "execution_count": 38,
   "outputs": [
    {
     "data": {
      "text/plain": "        Id      Predicted\n5        6 -147810.144451\n57      58  -49082.234051\n75      76 -313546.638383\n97      98 -300920.751639\n119    120 -121218.001964\n...    ...            ...\n1904  1905  -77483.297948\n1984  1985   -2961.571608\n1989  1990  -76090.383800\n2088  2089 -157559.382550\n2096  2097 -158214.872219\n\n[82 rows x 2 columns]",
      "text/html": "<div>\n<style scoped>\n    .dataframe tbody tr th:only-of-type {\n        vertical-align: middle;\n    }\n\n    .dataframe tbody tr th {\n        vertical-align: top;\n    }\n\n    .dataframe thead th {\n        text-align: right;\n    }\n</style>\n<table border=\"1\" class=\"dataframe\">\n  <thead>\n    <tr style=\"text-align: right;\">\n      <th></th>\n      <th>Id</th>\n      <th>Predicted</th>\n    </tr>\n  </thead>\n  <tbody>\n    <tr>\n      <th>5</th>\n      <td>6</td>\n      <td>-147810.144451</td>\n    </tr>\n    <tr>\n      <th>57</th>\n      <td>58</td>\n      <td>-49082.234051</td>\n    </tr>\n    <tr>\n      <th>75</th>\n      <td>76</td>\n      <td>-313546.638383</td>\n    </tr>\n    <tr>\n      <th>97</th>\n      <td>98</td>\n      <td>-300920.751639</td>\n    </tr>\n    <tr>\n      <th>119</th>\n      <td>120</td>\n      <td>-121218.001964</td>\n    </tr>\n    <tr>\n      <th>...</th>\n      <td>...</td>\n      <td>...</td>\n    </tr>\n    <tr>\n      <th>1904</th>\n      <td>1905</td>\n      <td>-77483.297948</td>\n    </tr>\n    <tr>\n      <th>1984</th>\n      <td>1985</td>\n      <td>-2961.571608</td>\n    </tr>\n    <tr>\n      <th>1989</th>\n      <td>1990</td>\n      <td>-76090.383800</td>\n    </tr>\n    <tr>\n      <th>2088</th>\n      <td>2089</td>\n      <td>-157559.382550</td>\n    </tr>\n    <tr>\n      <th>2096</th>\n      <td>2097</td>\n      <td>-158214.872219</td>\n    </tr>\n  </tbody>\n</table>\n<p>82 rows × 2 columns</p>\n</div>"
     },
     "execution_count": 38,
     "metadata": {},
     "output_type": "execute_result"
    }
   ],
   "source": [
    "submit[submit.Predicted <= 3000]"
   ],
   "metadata": {
    "collapsed": false,
    "pycharm": {
     "name": "#%%\n"
    }
   }
  },
  {
   "cell_type": "code",
   "execution_count": 39,
   "outputs": [],
   "source": [
    "submit['Predicted'] = submit['Predicted'].mask(submit['Predicted'] < 3000, submit.Predicted.mean())"
   ],
   "metadata": {
    "collapsed": false,
    "pycharm": {
     "name": "#%%\n"
    }
   }
  },
  {
   "cell_type": "code",
   "execution_count": 43,
   "outputs": [
    {
     "data": {
      "text/plain": "        Id      Predicted\n0        1  681358.585371\n1        2  746318.784623\n2        3  418269.728751\n3        4  662604.195350\n4        5  599711.379355\n...    ...            ...\n2123  2124  682072.488401\n2124  2125  530235.821201\n2125  2126   50386.203162\n2126  2127  854196.038764\n2127  2128  413012.375263\n\n[2128 rows x 2 columns]",
      "text/html": "<div>\n<style scoped>\n    .dataframe tbody tr th:only-of-type {\n        vertical-align: middle;\n    }\n\n    .dataframe tbody tr th {\n        vertical-align: top;\n    }\n\n    .dataframe thead th {\n        text-align: right;\n    }\n</style>\n<table border=\"1\" class=\"dataframe\">\n  <thead>\n    <tr style=\"text-align: right;\">\n      <th></th>\n      <th>Id</th>\n      <th>Predicted</th>\n    </tr>\n  </thead>\n  <tbody>\n    <tr>\n      <th>0</th>\n      <td>1</td>\n      <td>681358.585371</td>\n    </tr>\n    <tr>\n      <th>1</th>\n      <td>2</td>\n      <td>746318.784623</td>\n    </tr>\n    <tr>\n      <th>2</th>\n      <td>3</td>\n      <td>418269.728751</td>\n    </tr>\n    <tr>\n      <th>3</th>\n      <td>4</td>\n      <td>662604.195350</td>\n    </tr>\n    <tr>\n      <th>4</th>\n      <td>5</td>\n      <td>599711.379355</td>\n    </tr>\n    <tr>\n      <th>...</th>\n      <td>...</td>\n      <td>...</td>\n    </tr>\n    <tr>\n      <th>2123</th>\n      <td>2124</td>\n      <td>682072.488401</td>\n    </tr>\n    <tr>\n      <th>2124</th>\n      <td>2125</td>\n      <td>530235.821201</td>\n    </tr>\n    <tr>\n      <th>2125</th>\n      <td>2126</td>\n      <td>50386.203162</td>\n    </tr>\n    <tr>\n      <th>2126</th>\n      <td>2127</td>\n      <td>854196.038764</td>\n    </tr>\n    <tr>\n      <th>2127</th>\n      <td>2128</td>\n      <td>413012.375263</td>\n    </tr>\n  </tbody>\n</table>\n<p>2128 rows × 2 columns</p>\n</div>"
     },
     "execution_count": 43,
     "metadata": {},
     "output_type": "execute_result"
    }
   ],
   "source": [
    "submit"
   ],
   "metadata": {
    "collapsed": false,
    "pycharm": {
     "name": "#%%\n"
    }
   }
  },
  {
   "cell_type": "code",
   "execution_count": 44,
   "outputs": [],
   "source": [
    "submit.to_csv(path_or_buf='C:/Users/khoat/OneDrive - National Economics University/Desktop/1. Study/3.1. Data Preparation & Visualiazation/Final/data/submit_11_12_1.csv', index=False)"
   ],
   "metadata": {
    "collapsed": false,
    "pycharm": {
     "name": "#%%\n"
    }
   }
  },
  {
   "cell_type": "code",
   "execution_count": 45,
   "outputs": [],
   "source": [
    "#gg"
   ],
   "metadata": {
    "collapsed": false,
    "pycharm": {
     "name": "#%%\n"
    }
   }
  },
  {
   "cell_type": "code",
   "execution_count": null,
   "outputs": [],
   "source": [],
   "metadata": {
    "collapsed": false,
    "pycharm": {
     "name": "#%%\n"
    }
   }
  }
 ],
 "metadata": {
  "kernelspec": {
   "display_name": "Python 3",
   "language": "python",
   "name": "python3"
  },
  "language_info": {
   "codemirror_mode": {
    "name": "ipython",
    "version": 2
   },
   "file_extension": ".py",
   "mimetype": "text/x-python",
   "name": "python",
   "nbconvert_exporter": "python",
   "pygments_lexer": "ipython2",
   "version": "2.7.6"
  }
 },
 "nbformat": 4,
 "nbformat_minor": 0
}