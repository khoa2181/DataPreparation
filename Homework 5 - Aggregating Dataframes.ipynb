{
 "cells": [
  {
   "cell_type": "code",
   "execution_count": 1,
   "metadata": {
    "collapsed": true
   },
   "outputs": [],
   "source": [
    "import numpy as np\n",
    "import pandas as pd"
   ]
  },
  {
   "cell_type": "code",
   "execution_count": 2,
   "outputs": [],
   "source": [
    "path = 'C:/Users/khoat/OneDrive - National Economics University/Desktop/1. Study/3.1. Data Preparation & Visualiazation/data/'"
   ],
   "metadata": {
    "collapsed": false,
    "pycharm": {
     "name": "#%%\n"
    }
   }
  },
  {
   "cell_type": "markdown",
   "source": [
    "Load dataset nyc_weather_2018 and weather_stations, then calculate the average elevation of stations that calculate ‘SNOW’ and contains ‘NJ US’ in its name."
   ],
   "metadata": {
    "collapsed": false
   }
  },
  {
   "cell_type": "code",
   "execution_count": 3,
   "outputs": [],
   "source": [
    "nyc = pd.read_csv(path + 'nyc_weather_2018.csv')\n",
    "weather_stations = pd.read_csv(path + 'weather_stations.csv')"
   ],
   "metadata": {
    "collapsed": false,
    "pycharm": {
     "name": "#%%\n"
    }
   }
  },
  {
   "cell_type": "code",
   "execution_count": 4,
   "outputs": [],
   "source": [
    "weather_stations.rename(columns={'id' :'station'},inplace = True)"
   ],
   "metadata": {
    "collapsed": false,
    "pycharm": {
     "name": "#%%\n"
    }
   }
  },
  {
   "cell_type": "code",
   "execution_count": 5,
   "outputs": [
    {
     "data": {
      "text/plain": "                  date datatype            station attributes  value\n0  2018-01-01T00:00:00     PRCP  GHCND:US1CTFR0039       ,,N,    0.0\n1  2018-01-01T00:00:00     PRCP  GHCND:US1NJBG0015       ,,N,    0.0\n2  2018-01-01T00:00:00     SNOW  GHCND:US1NJBG0015       ,,N,    0.0\n3  2018-01-01T00:00:00     PRCP  GHCND:US1NJBG0017       ,,N,    0.0\n4  2018-01-01T00:00:00     SNOW  GHCND:US1NJBG0017       ,,N,    0.0",
      "text/html": "<div>\n<style scoped>\n    .dataframe tbody tr th:only-of-type {\n        vertical-align: middle;\n    }\n\n    .dataframe tbody tr th {\n        vertical-align: top;\n    }\n\n    .dataframe thead th {\n        text-align: right;\n    }\n</style>\n<table border=\"1\" class=\"dataframe\">\n  <thead>\n    <tr style=\"text-align: right;\">\n      <th></th>\n      <th>date</th>\n      <th>datatype</th>\n      <th>station</th>\n      <th>attributes</th>\n      <th>value</th>\n    </tr>\n  </thead>\n  <tbody>\n    <tr>\n      <th>0</th>\n      <td>2018-01-01T00:00:00</td>\n      <td>PRCP</td>\n      <td>GHCND:US1CTFR0039</td>\n      <td>,,N,</td>\n      <td>0.0</td>\n    </tr>\n    <tr>\n      <th>1</th>\n      <td>2018-01-01T00:00:00</td>\n      <td>PRCP</td>\n      <td>GHCND:US1NJBG0015</td>\n      <td>,,N,</td>\n      <td>0.0</td>\n    </tr>\n    <tr>\n      <th>2</th>\n      <td>2018-01-01T00:00:00</td>\n      <td>SNOW</td>\n      <td>GHCND:US1NJBG0015</td>\n      <td>,,N,</td>\n      <td>0.0</td>\n    </tr>\n    <tr>\n      <th>3</th>\n      <td>2018-01-01T00:00:00</td>\n      <td>PRCP</td>\n      <td>GHCND:US1NJBG0017</td>\n      <td>,,N,</td>\n      <td>0.0</td>\n    </tr>\n    <tr>\n      <th>4</th>\n      <td>2018-01-01T00:00:00</td>\n      <td>SNOW</td>\n      <td>GHCND:US1NJBG0017</td>\n      <td>,,N,</td>\n      <td>0.0</td>\n    </tr>\n  </tbody>\n</table>\n</div>"
     },
     "execution_count": 5,
     "metadata": {},
     "output_type": "execute_result"
    }
   ],
   "source": [
    "nyc.head()"
   ],
   "metadata": {
    "collapsed": false,
    "pycharm": {
     "name": "#%%\n"
    }
   }
  },
  {
   "cell_type": "code",
   "execution_count": 6,
   "outputs": [
    {
     "data": {
      "text/plain": "             station                           name   latitude  longitude  \\\n0  GHCND:US1CTFR0022        STAMFORD 2.6 SSW, CT US  41.064100 -73.577000   \n1  GHCND:US1CTFR0039          STAMFORD 4.2 S, CT US  41.037788 -73.568176   \n2  GHCND:US1NJBG0001      BERGENFIELD 0.3 SW, NJ US  40.921298 -74.001983   \n3  GHCND:US1NJBG0002  SADDLE BROOK TWP 0.6 E, NJ US  40.902694 -74.083358   \n4  GHCND:US1NJBG0003           TENAFLY 1.3 W, NJ US  40.914670 -73.977500   \n\n   elevation  \n0       36.6  \n1        6.4  \n2       20.1  \n3       16.8  \n4       21.6  ",
      "text/html": "<div>\n<style scoped>\n    .dataframe tbody tr th:only-of-type {\n        vertical-align: middle;\n    }\n\n    .dataframe tbody tr th {\n        vertical-align: top;\n    }\n\n    .dataframe thead th {\n        text-align: right;\n    }\n</style>\n<table border=\"1\" class=\"dataframe\">\n  <thead>\n    <tr style=\"text-align: right;\">\n      <th></th>\n      <th>station</th>\n      <th>name</th>\n      <th>latitude</th>\n      <th>longitude</th>\n      <th>elevation</th>\n    </tr>\n  </thead>\n  <tbody>\n    <tr>\n      <th>0</th>\n      <td>GHCND:US1CTFR0022</td>\n      <td>STAMFORD 2.6 SSW, CT US</td>\n      <td>41.064100</td>\n      <td>-73.577000</td>\n      <td>36.6</td>\n    </tr>\n    <tr>\n      <th>1</th>\n      <td>GHCND:US1CTFR0039</td>\n      <td>STAMFORD 4.2 S, CT US</td>\n      <td>41.037788</td>\n      <td>-73.568176</td>\n      <td>6.4</td>\n    </tr>\n    <tr>\n      <th>2</th>\n      <td>GHCND:US1NJBG0001</td>\n      <td>BERGENFIELD 0.3 SW, NJ US</td>\n      <td>40.921298</td>\n      <td>-74.001983</td>\n      <td>20.1</td>\n    </tr>\n    <tr>\n      <th>3</th>\n      <td>GHCND:US1NJBG0002</td>\n      <td>SADDLE BROOK TWP 0.6 E, NJ US</td>\n      <td>40.902694</td>\n      <td>-74.083358</td>\n      <td>16.8</td>\n    </tr>\n    <tr>\n      <th>4</th>\n      <td>GHCND:US1NJBG0003</td>\n      <td>TENAFLY 1.3 W, NJ US</td>\n      <td>40.914670</td>\n      <td>-73.977500</td>\n      <td>21.6</td>\n    </tr>\n  </tbody>\n</table>\n</div>"
     },
     "execution_count": 6,
     "metadata": {},
     "output_type": "execute_result"
    }
   ],
   "source": [
    "weather_stations.head()"
   ],
   "metadata": {
    "collapsed": false,
    "pycharm": {
     "name": "#%%\n"
    }
   }
  },
  {
   "cell_type": "code",
   "execution_count": 7,
   "outputs": [],
   "source": [
    "nyc.drop_duplicates(inplace= True)\n",
    "weather_stations.drop_duplicates(inplace= True)"
   ],
   "metadata": {
    "collapsed": false,
    "pycharm": {
     "name": "#%%\n"
    }
   }
  },
  {
   "cell_type": "code",
   "execution_count": 8,
   "outputs": [],
   "source": [
    "weather_snow = nyc[nyc.datatype == 'SNOW']\n",
    "station_us = weather_stations[weather_stations.name.str.contains('NJ US')]"
   ],
   "metadata": {
    "collapsed": false,
    "pycharm": {
     "name": "#%%\n"
    }
   }
  },
  {
   "cell_type": "code",
   "execution_count": 9,
   "outputs": [
    {
     "data": {
      "text/plain": "                  date datatype            station attributes  value  \\\n0  2018-01-01T00:00:00     SNOW  GHCND:US1NJBG0015       ,,N,    0.0   \n1  2018-01-02T00:00:00     SNOW  GHCND:US1NJBG0015       ,,N,    0.0   \n2  2018-01-03T00:00:00     SNOW  GHCND:US1NJBG0015       ,,N,    0.0   \n3  2018-01-04T00:00:00     SNOW  GHCND:US1NJBG0015       ,,N,  229.0   \n4  2018-01-06T00:00:00     SNOW  GHCND:US1NJBG0015       ,,N,    0.0   \n\n                             name   latitude  longitude  elevation  \n0  NORTH ARLINGTON 0.7 WNW, NJ US  40.791492  -74.13979       17.7  \n1  NORTH ARLINGTON 0.7 WNW, NJ US  40.791492  -74.13979       17.7  \n2  NORTH ARLINGTON 0.7 WNW, NJ US  40.791492  -74.13979       17.7  \n3  NORTH ARLINGTON 0.7 WNW, NJ US  40.791492  -74.13979       17.7  \n4  NORTH ARLINGTON 0.7 WNW, NJ US  40.791492  -74.13979       17.7  ",
      "text/html": "<div>\n<style scoped>\n    .dataframe tbody tr th:only-of-type {\n        vertical-align: middle;\n    }\n\n    .dataframe tbody tr th {\n        vertical-align: top;\n    }\n\n    .dataframe thead th {\n        text-align: right;\n    }\n</style>\n<table border=\"1\" class=\"dataframe\">\n  <thead>\n    <tr style=\"text-align: right;\">\n      <th></th>\n      <th>date</th>\n      <th>datatype</th>\n      <th>station</th>\n      <th>attributes</th>\n      <th>value</th>\n      <th>name</th>\n      <th>latitude</th>\n      <th>longitude</th>\n      <th>elevation</th>\n    </tr>\n  </thead>\n  <tbody>\n    <tr>\n      <th>0</th>\n      <td>2018-01-01T00:00:00</td>\n      <td>SNOW</td>\n      <td>GHCND:US1NJBG0015</td>\n      <td>,,N,</td>\n      <td>0.0</td>\n      <td>NORTH ARLINGTON 0.7 WNW, NJ US</td>\n      <td>40.791492</td>\n      <td>-74.13979</td>\n      <td>17.7</td>\n    </tr>\n    <tr>\n      <th>1</th>\n      <td>2018-01-02T00:00:00</td>\n      <td>SNOW</td>\n      <td>GHCND:US1NJBG0015</td>\n      <td>,,N,</td>\n      <td>0.0</td>\n      <td>NORTH ARLINGTON 0.7 WNW, NJ US</td>\n      <td>40.791492</td>\n      <td>-74.13979</td>\n      <td>17.7</td>\n    </tr>\n    <tr>\n      <th>2</th>\n      <td>2018-01-03T00:00:00</td>\n      <td>SNOW</td>\n      <td>GHCND:US1NJBG0015</td>\n      <td>,,N,</td>\n      <td>0.0</td>\n      <td>NORTH ARLINGTON 0.7 WNW, NJ US</td>\n      <td>40.791492</td>\n      <td>-74.13979</td>\n      <td>17.7</td>\n    </tr>\n    <tr>\n      <th>3</th>\n      <td>2018-01-04T00:00:00</td>\n      <td>SNOW</td>\n      <td>GHCND:US1NJBG0015</td>\n      <td>,,N,</td>\n      <td>229.0</td>\n      <td>NORTH ARLINGTON 0.7 WNW, NJ US</td>\n      <td>40.791492</td>\n      <td>-74.13979</td>\n      <td>17.7</td>\n    </tr>\n    <tr>\n      <th>4</th>\n      <td>2018-01-06T00:00:00</td>\n      <td>SNOW</td>\n      <td>GHCND:US1NJBG0015</td>\n      <td>,,N,</td>\n      <td>0.0</td>\n      <td>NORTH ARLINGTON 0.7 WNW, NJ US</td>\n      <td>40.791492</td>\n      <td>-74.13979</td>\n      <td>17.7</td>\n    </tr>\n  </tbody>\n</table>\n</div>"
     },
     "execution_count": 9,
     "metadata": {},
     "output_type": "execute_result"
    }
   ],
   "source": [
    "info = weather_snow.merge(station_us, on= 'station')\n",
    "info.head()"
   ],
   "metadata": {
    "collapsed": false,
    "pycharm": {
     "name": "#%%\n"
    }
   }
  },
  {
   "cell_type": "code",
   "execution_count": 10,
   "outputs": [
    {
     "data": {
      "text/plain": "58.34848484848487"
     },
     "execution_count": 10,
     "metadata": {},
     "output_type": "execute_result"
    }
   ],
   "source": [
    "info.drop_duplicates('station').elevation.mean()"
   ],
   "metadata": {
    "collapsed": false,
    "pycharm": {
     "name": "#%%\n"
    }
   }
  },
  {
   "cell_type": "markdown",
   "source": [
    "Load the fb dataset, then:\n",
    "• Calculate the percentage change between that and and last day in volumn (pct_change method)\n",
    "• Sort the dataframe by percentage change then get five days that have the biggest change."
   ],
   "metadata": {
    "collapsed": false
   }
  },
  {
   "cell_type": "code",
   "execution_count": 11,
   "outputs": [],
   "source": [
    "fb = pd.read_csv(path + 'fb_2018.csv')"
   ],
   "metadata": {
    "collapsed": false,
    "pycharm": {
     "name": "#%%\n"
    }
   }
  },
  {
   "cell_type": "code",
   "execution_count": 12,
   "outputs": [],
   "source": [
    "fb['pct_change'] = abs(fb.volume.pct_change())"
   ],
   "metadata": {
    "collapsed": false,
    "pycharm": {
     "name": "#%%\n"
    }
   }
  },
  {
   "cell_type": "code",
   "execution_count": 13,
   "outputs": [
    {
     "data": {
      "text/plain": "         date    open    high       low   close    volume  pct_change\n0  2018-01-02  177.68  181.58  177.5500  181.42  18151903         NaN\n1  2018-01-03  181.88  184.78  181.3300  184.67  16886563    0.069708\n2  2018-01-04  184.90  186.21  184.0996  184.33  13880896    0.177992\n3  2018-01-05  185.59  186.90  184.9300  186.85  13574535    0.022071\n4  2018-01-08  187.20  188.90  186.3300  188.28  17994726    0.325624",
      "text/html": "<div>\n<style scoped>\n    .dataframe tbody tr th:only-of-type {\n        vertical-align: middle;\n    }\n\n    .dataframe tbody tr th {\n        vertical-align: top;\n    }\n\n    .dataframe thead th {\n        text-align: right;\n    }\n</style>\n<table border=\"1\" class=\"dataframe\">\n  <thead>\n    <tr style=\"text-align: right;\">\n      <th></th>\n      <th>date</th>\n      <th>open</th>\n      <th>high</th>\n      <th>low</th>\n      <th>close</th>\n      <th>volume</th>\n      <th>pct_change</th>\n    </tr>\n  </thead>\n  <tbody>\n    <tr>\n      <th>0</th>\n      <td>2018-01-02</td>\n      <td>177.68</td>\n      <td>181.58</td>\n      <td>177.5500</td>\n      <td>181.42</td>\n      <td>18151903</td>\n      <td>NaN</td>\n    </tr>\n    <tr>\n      <th>1</th>\n      <td>2018-01-03</td>\n      <td>181.88</td>\n      <td>184.78</td>\n      <td>181.3300</td>\n      <td>184.67</td>\n      <td>16886563</td>\n      <td>0.069708</td>\n    </tr>\n    <tr>\n      <th>2</th>\n      <td>2018-01-04</td>\n      <td>184.90</td>\n      <td>186.21</td>\n      <td>184.0996</td>\n      <td>184.33</td>\n      <td>13880896</td>\n      <td>0.177992</td>\n    </tr>\n    <tr>\n      <th>3</th>\n      <td>2018-01-05</td>\n      <td>185.59</td>\n      <td>186.90</td>\n      <td>184.9300</td>\n      <td>186.85</td>\n      <td>13574535</td>\n      <td>0.022071</td>\n    </tr>\n    <tr>\n      <th>4</th>\n      <td>2018-01-08</td>\n      <td>187.20</td>\n      <td>188.90</td>\n      <td>186.3300</td>\n      <td>188.28</td>\n      <td>17994726</td>\n      <td>0.325624</td>\n    </tr>\n  </tbody>\n</table>\n</div>"
     },
     "execution_count": 13,
     "metadata": {},
     "output_type": "execute_result"
    }
   ],
   "source": [
    "fb.head()"
   ],
   "metadata": {
    "collapsed": false,
    "pycharm": {
     "name": "#%%\n"
    }
   }
  },
  {
   "cell_type": "code",
   "execution_count": 14,
   "outputs": [
    {
     "data": {
      "text/plain": "           date    open    high     low   close     volume  pct_change\n8    2018-01-12  178.06  181.48  177.40  179.37   77551299    7.087876\n52   2018-03-19  177.01  177.17  170.06  172.56   88140060    2.611789\n142  2018-07-26  174.89  180.13  173.75  176.26  169803668    1.628841\n182  2018-09-21  166.64  167.25  162.81  162.93   45994800    1.428956\n57   2018-03-26  160.82  161.10  149.02  160.06  126116634    1.352496",
      "text/html": "<div>\n<style scoped>\n    .dataframe tbody tr th:only-of-type {\n        vertical-align: middle;\n    }\n\n    .dataframe tbody tr th {\n        vertical-align: top;\n    }\n\n    .dataframe thead th {\n        text-align: right;\n    }\n</style>\n<table border=\"1\" class=\"dataframe\">\n  <thead>\n    <tr style=\"text-align: right;\">\n      <th></th>\n      <th>date</th>\n      <th>open</th>\n      <th>high</th>\n      <th>low</th>\n      <th>close</th>\n      <th>volume</th>\n      <th>pct_change</th>\n    </tr>\n  </thead>\n  <tbody>\n    <tr>\n      <th>8</th>\n      <td>2018-01-12</td>\n      <td>178.06</td>\n      <td>181.48</td>\n      <td>177.40</td>\n      <td>179.37</td>\n      <td>77551299</td>\n      <td>7.087876</td>\n    </tr>\n    <tr>\n      <th>52</th>\n      <td>2018-03-19</td>\n      <td>177.01</td>\n      <td>177.17</td>\n      <td>170.06</td>\n      <td>172.56</td>\n      <td>88140060</td>\n      <td>2.611789</td>\n    </tr>\n    <tr>\n      <th>142</th>\n      <td>2018-07-26</td>\n      <td>174.89</td>\n      <td>180.13</td>\n      <td>173.75</td>\n      <td>176.26</td>\n      <td>169803668</td>\n      <td>1.628841</td>\n    </tr>\n    <tr>\n      <th>182</th>\n      <td>2018-09-21</td>\n      <td>166.64</td>\n      <td>167.25</td>\n      <td>162.81</td>\n      <td>162.93</td>\n      <td>45994800</td>\n      <td>1.428956</td>\n    </tr>\n    <tr>\n      <th>57</th>\n      <td>2018-03-26</td>\n      <td>160.82</td>\n      <td>161.10</td>\n      <td>149.02</td>\n      <td>160.06</td>\n      <td>126116634</td>\n      <td>1.352496</td>\n    </tr>\n  </tbody>\n</table>\n</div>"
     },
     "execution_count": 14,
     "metadata": {},
     "output_type": "execute_result"
    }
   ],
   "source": [
    "fb.sort_values(by='pct_change', ascending=False).head(5)"
   ],
   "metadata": {
    "collapsed": false,
    "pycharm": {
     "name": "#%%\n"
    }
   }
  },
  {
   "cell_type": "markdown",
   "source": [
    "Create bins for each full number of earthquake magnitude (for instance, the first bin is (0, 1], the second is (1, 2], and so on) with the ml magnitude type and count how many are in each bin."
   ],
   "metadata": {
    "collapsed": false
   }
  },
  {
   "cell_type": "code",
   "execution_count": 15,
   "outputs": [],
   "source": [
    "earthquake = pd.read_csv(path + 'earthquakes.csv')\n",
    "earthquake = earthquake[earthquake.magType == 'ml']"
   ],
   "metadata": {
    "collapsed": false,
    "pycharm": {
     "name": "#%%\n"
    }
   }
  },
  {
   "cell_type": "code",
   "execution_count": 16,
   "outputs": [
    {
     "data": {
      "text/plain": "  alert  cdi      code                                             detail  \\\n0   NaN  NaN  37389218  https://earthquake.usgs.gov/fdsnws/event/1/que...   \n1   NaN  NaN  37389202  https://earthquake.usgs.gov/fdsnws/event/1/que...   \n2   NaN  4.4  37389194  https://earthquake.usgs.gov/fdsnws/event/1/que...   \n3   NaN  NaN  37389186  https://earthquake.usgs.gov/fdsnws/event/1/que...   \n6   NaN  NaN  20280432  https://earthquake.usgs.gov/fdsnws/event/1/que...   \n\n       dmin  felt   gap           ids   mag magType  ...  sources     status  \\\n0  0.008693   NaN  85.0  ,ci37389218,  1.35      ml  ...     ,ci,  automatic   \n1  0.020030   NaN  79.0  ,ci37389202,  1.29      ml  ...     ,ci,  automatic   \n2  0.021370  28.0  21.0  ,ci37389194,  3.42      ml  ...     ,ci,  automatic   \n3  0.026180   NaN  39.0  ,ci37389186,  0.44      ml  ...     ,ci,  automatic   \n6       NaN   NaN   NaN  ,ak20280432,  1.70      ml  ...     ,ak,  automatic   \n\n            time                                 title  tsunami        type  \\\n0  1539475168010         M 1.4 - 9km NE of Aguanga, CA        0  earthquake   \n1  1539475129610         M 1.3 - 9km NE of Aguanga, CA        0  earthquake   \n2  1539475062610         M 3.4 - 8km NE of Aguanga, CA        0  earthquake   \n3  1539474978070         M 0.4 - 9km NE of Aguanga, CA        0  earthquake   \n6  1539473176017  M 1.7 - 105km W of Talkeetna, Alaska        0  earthquake   \n\n                                               types     tz        updated  \\\n0         ,geoserve,nearby-cities,origin,phase-data, -480.0  1539475395144   \n1         ,geoserve,nearby-cities,origin,phase-data, -480.0  1539475253925   \n2  ,dyfi,focal-mechanism,geoserve,nearby-cities,o... -480.0  1539536756176   \n3         ,geoserve,nearby-cities,origin,phase-data, -480.0  1539475196167   \n6                                  ,geoserve,origin, -540.0  1539473596465   \n\n                                                 url  \n0  https://earthquake.usgs.gov/earthquakes/eventp...  \n1  https://earthquake.usgs.gov/earthquakes/eventp...  \n2  https://earthquake.usgs.gov/earthquakes/eventp...  \n3  https://earthquake.usgs.gov/earthquakes/eventp...  \n6  https://earthquake.usgs.gov/earthquakes/eventp...  \n\n[5 rows x 26 columns]",
      "text/html": "<div>\n<style scoped>\n    .dataframe tbody tr th:only-of-type {\n        vertical-align: middle;\n    }\n\n    .dataframe tbody tr th {\n        vertical-align: top;\n    }\n\n    .dataframe thead th {\n        text-align: right;\n    }\n</style>\n<table border=\"1\" class=\"dataframe\">\n  <thead>\n    <tr style=\"text-align: right;\">\n      <th></th>\n      <th>alert</th>\n      <th>cdi</th>\n      <th>code</th>\n      <th>detail</th>\n      <th>dmin</th>\n      <th>felt</th>\n      <th>gap</th>\n      <th>ids</th>\n      <th>mag</th>\n      <th>magType</th>\n      <th>...</th>\n      <th>sources</th>\n      <th>status</th>\n      <th>time</th>\n      <th>title</th>\n      <th>tsunami</th>\n      <th>type</th>\n      <th>types</th>\n      <th>tz</th>\n      <th>updated</th>\n      <th>url</th>\n    </tr>\n  </thead>\n  <tbody>\n    <tr>\n      <th>0</th>\n      <td>NaN</td>\n      <td>NaN</td>\n      <td>37389218</td>\n      <td>https://earthquake.usgs.gov/fdsnws/event/1/que...</td>\n      <td>0.008693</td>\n      <td>NaN</td>\n      <td>85.0</td>\n      <td>,ci37389218,</td>\n      <td>1.35</td>\n      <td>ml</td>\n      <td>...</td>\n      <td>,ci,</td>\n      <td>automatic</td>\n      <td>1539475168010</td>\n      <td>M 1.4 - 9km NE of Aguanga, CA</td>\n      <td>0</td>\n      <td>earthquake</td>\n      <td>,geoserve,nearby-cities,origin,phase-data,</td>\n      <td>-480.0</td>\n      <td>1539475395144</td>\n      <td>https://earthquake.usgs.gov/earthquakes/eventp...</td>\n    </tr>\n    <tr>\n      <th>1</th>\n      <td>NaN</td>\n      <td>NaN</td>\n      <td>37389202</td>\n      <td>https://earthquake.usgs.gov/fdsnws/event/1/que...</td>\n      <td>0.020030</td>\n      <td>NaN</td>\n      <td>79.0</td>\n      <td>,ci37389202,</td>\n      <td>1.29</td>\n      <td>ml</td>\n      <td>...</td>\n      <td>,ci,</td>\n      <td>automatic</td>\n      <td>1539475129610</td>\n      <td>M 1.3 - 9km NE of Aguanga, CA</td>\n      <td>0</td>\n      <td>earthquake</td>\n      <td>,geoserve,nearby-cities,origin,phase-data,</td>\n      <td>-480.0</td>\n      <td>1539475253925</td>\n      <td>https://earthquake.usgs.gov/earthquakes/eventp...</td>\n    </tr>\n    <tr>\n      <th>2</th>\n      <td>NaN</td>\n      <td>4.4</td>\n      <td>37389194</td>\n      <td>https://earthquake.usgs.gov/fdsnws/event/1/que...</td>\n      <td>0.021370</td>\n      <td>28.0</td>\n      <td>21.0</td>\n      <td>,ci37389194,</td>\n      <td>3.42</td>\n      <td>ml</td>\n      <td>...</td>\n      <td>,ci,</td>\n      <td>automatic</td>\n      <td>1539475062610</td>\n      <td>M 3.4 - 8km NE of Aguanga, CA</td>\n      <td>0</td>\n      <td>earthquake</td>\n      <td>,dyfi,focal-mechanism,geoserve,nearby-cities,o...</td>\n      <td>-480.0</td>\n      <td>1539536756176</td>\n      <td>https://earthquake.usgs.gov/earthquakes/eventp...</td>\n    </tr>\n    <tr>\n      <th>3</th>\n      <td>NaN</td>\n      <td>NaN</td>\n      <td>37389186</td>\n      <td>https://earthquake.usgs.gov/fdsnws/event/1/que...</td>\n      <td>0.026180</td>\n      <td>NaN</td>\n      <td>39.0</td>\n      <td>,ci37389186,</td>\n      <td>0.44</td>\n      <td>ml</td>\n      <td>...</td>\n      <td>,ci,</td>\n      <td>automatic</td>\n      <td>1539474978070</td>\n      <td>M 0.4 - 9km NE of Aguanga, CA</td>\n      <td>0</td>\n      <td>earthquake</td>\n      <td>,geoserve,nearby-cities,origin,phase-data,</td>\n      <td>-480.0</td>\n      <td>1539475196167</td>\n      <td>https://earthquake.usgs.gov/earthquakes/eventp...</td>\n    </tr>\n    <tr>\n      <th>6</th>\n      <td>NaN</td>\n      <td>NaN</td>\n      <td>20280432</td>\n      <td>https://earthquake.usgs.gov/fdsnws/event/1/que...</td>\n      <td>NaN</td>\n      <td>NaN</td>\n      <td>NaN</td>\n      <td>,ak20280432,</td>\n      <td>1.70</td>\n      <td>ml</td>\n      <td>...</td>\n      <td>,ak,</td>\n      <td>automatic</td>\n      <td>1539473176017</td>\n      <td>M 1.7 - 105km W of Talkeetna, Alaska</td>\n      <td>0</td>\n      <td>earthquake</td>\n      <td>,geoserve,origin,</td>\n      <td>-540.0</td>\n      <td>1539473596465</td>\n      <td>https://earthquake.usgs.gov/earthquakes/eventp...</td>\n    </tr>\n  </tbody>\n</table>\n<p>5 rows × 26 columns</p>\n</div>"
     },
     "execution_count": 16,
     "metadata": {},
     "output_type": "execute_result"
    }
   ],
   "source": [
    "earthquake.head()"
   ],
   "metadata": {
    "collapsed": false,
    "pycharm": {
     "name": "#%%\n"
    }
   }
  },
  {
   "cell_type": "code",
   "execution_count": 17,
   "outputs": [],
   "source": [
    "mag_bin = pd.cut(earthquake.mag, bins = [0,1,2,3,4,5], labels=['very low', 'low', 'medium', 'high', 'very high'])"
   ],
   "metadata": {
    "collapsed": false,
    "pycharm": {
     "name": "#%%\n"
    }
   }
  },
  {
   "cell_type": "code",
   "execution_count": 18,
   "outputs": [
    {
     "data": {
      "text/plain": "low          3105\nvery low     2207\nmedium        862\nhigh          122\nvery high       2\nName: mag, dtype: int64"
     },
     "execution_count": 18,
     "metadata": {},
     "output_type": "execute_result"
    }
   ],
   "source": [
    "mag_bin.value_counts()"
   ],
   "metadata": {
    "collapsed": false,
    "pycharm": {
     "name": "#%%\n"
    }
   }
  },
  {
   "cell_type": "markdown",
   "source": [
    "Load the dataset weather_by_station then:\n",
    "• Calculate the mean value each station recorded snow per month.\n",
    "• Count the number of times each station recorded snow per month."
   ],
   "metadata": {
    "collapsed": false
   }
  },
  {
   "cell_type": "code",
   "execution_count": 19,
   "outputs": [],
   "source": [
    "weather_by_station = pd.read_csv(path + 'weather_by_station.csv')\n",
    "weather_by_station = weather_by_station.assign(date=lambda x: pd.to_datetime(x.date))"
   ],
   "metadata": {
    "collapsed": false,
    "pycharm": {
     "name": "#%%\n"
    }
   }
  },
  {
   "cell_type": "code",
   "execution_count": 20,
   "outputs": [
    {
     "data": {
      "text/plain": "        date datatype            station  value  \\\n0 2018-01-01     PRCP  GHCND:US1CTFR0039    0.0   \n1 2018-01-01     PRCP  GHCND:US1NJBG0015    0.0   \n2 2018-01-01     SNOW  GHCND:US1NJBG0015    0.0   \n3 2018-01-01     PRCP  GHCND:US1NJBG0017    0.0   \n4 2018-01-01     SNOW  GHCND:US1NJBG0017    0.0   \n\n                     station_name  \n0           STAMFORD 4.2 S, CT US  \n1  NORTH ARLINGTON 0.7 WNW, NJ US  \n2  NORTH ARLINGTON 0.7 WNW, NJ US  \n3        GLEN ROCK 0.7 SSE, NJ US  \n4        GLEN ROCK 0.7 SSE, NJ US  ",
      "text/html": "<div>\n<style scoped>\n    .dataframe tbody tr th:only-of-type {\n        vertical-align: middle;\n    }\n\n    .dataframe tbody tr th {\n        vertical-align: top;\n    }\n\n    .dataframe thead th {\n        text-align: right;\n    }\n</style>\n<table border=\"1\" class=\"dataframe\">\n  <thead>\n    <tr style=\"text-align: right;\">\n      <th></th>\n      <th>date</th>\n      <th>datatype</th>\n      <th>station</th>\n      <th>value</th>\n      <th>station_name</th>\n    </tr>\n  </thead>\n  <tbody>\n    <tr>\n      <th>0</th>\n      <td>2018-01-01</td>\n      <td>PRCP</td>\n      <td>GHCND:US1CTFR0039</td>\n      <td>0.0</td>\n      <td>STAMFORD 4.2 S, CT US</td>\n    </tr>\n    <tr>\n      <th>1</th>\n      <td>2018-01-01</td>\n      <td>PRCP</td>\n      <td>GHCND:US1NJBG0015</td>\n      <td>0.0</td>\n      <td>NORTH ARLINGTON 0.7 WNW, NJ US</td>\n    </tr>\n    <tr>\n      <th>2</th>\n      <td>2018-01-01</td>\n      <td>SNOW</td>\n      <td>GHCND:US1NJBG0015</td>\n      <td>0.0</td>\n      <td>NORTH ARLINGTON 0.7 WNW, NJ US</td>\n    </tr>\n    <tr>\n      <th>3</th>\n      <td>2018-01-01</td>\n      <td>PRCP</td>\n      <td>GHCND:US1NJBG0017</td>\n      <td>0.0</td>\n      <td>GLEN ROCK 0.7 SSE, NJ US</td>\n    </tr>\n    <tr>\n      <th>4</th>\n      <td>2018-01-01</td>\n      <td>SNOW</td>\n      <td>GHCND:US1NJBG0017</td>\n      <td>0.0</td>\n      <td>GLEN ROCK 0.7 SSE, NJ US</td>\n    </tr>\n  </tbody>\n</table>\n</div>"
     },
     "execution_count": 20,
     "metadata": {},
     "output_type": "execute_result"
    }
   ],
   "source": [
    "weather_by_station.head()"
   ],
   "metadata": {
    "collapsed": false,
    "pycharm": {
     "name": "#%%\n"
    }
   }
  },
  {
   "cell_type": "code",
   "execution_count": 21,
   "outputs": [
    {
     "data": {
      "text/plain": "          value\ndate           \n1     43.145202\n2     42.597200\n3     49.652692\n4     43.441413\n5     42.522763\n6     44.351128\n7     46.269616\n8     48.652158\n9     41.326425\n10    45.128095\n11    43.989320\n12    39.458666",
      "text/html": "<div>\n<style scoped>\n    .dataframe tbody tr th:only-of-type {\n        vertical-align: middle;\n    }\n\n    .dataframe tbody tr th {\n        vertical-align: top;\n    }\n\n    .dataframe thead th {\n        text-align: right;\n    }\n</style>\n<table border=\"1\" class=\"dataframe\">\n  <thead>\n    <tr style=\"text-align: right;\">\n      <th></th>\n      <th>value</th>\n    </tr>\n    <tr>\n      <th>date</th>\n      <th></th>\n    </tr>\n  </thead>\n  <tbody>\n    <tr>\n      <th>1</th>\n      <td>43.145202</td>\n    </tr>\n    <tr>\n      <th>2</th>\n      <td>42.597200</td>\n    </tr>\n    <tr>\n      <th>3</th>\n      <td>49.652692</td>\n    </tr>\n    <tr>\n      <th>4</th>\n      <td>43.441413</td>\n    </tr>\n    <tr>\n      <th>5</th>\n      <td>42.522763</td>\n    </tr>\n    <tr>\n      <th>6</th>\n      <td>44.351128</td>\n    </tr>\n    <tr>\n      <th>7</th>\n      <td>46.269616</td>\n    </tr>\n    <tr>\n      <th>8</th>\n      <td>48.652158</td>\n    </tr>\n    <tr>\n      <th>9</th>\n      <td>41.326425</td>\n    </tr>\n    <tr>\n      <th>10</th>\n      <td>45.128095</td>\n    </tr>\n    <tr>\n      <th>11</th>\n      <td>43.989320</td>\n    </tr>\n    <tr>\n      <th>12</th>\n      <td>39.458666</td>\n    </tr>\n  </tbody>\n</table>\n</div>"
     },
     "execution_count": 21,
     "metadata": {},
     "output_type": "execute_result"
    }
   ],
   "source": [
    "weather_by_station.groupby(pd.DatetimeIndex(weather_by_station.date).month).mean()"
   ],
   "metadata": {
    "collapsed": false,
    "pycharm": {
     "name": "#%%\n"
    }
   }
  },
  {
   "cell_type": "code",
   "execution_count": 22,
   "outputs": [
    {
     "data": {
      "text/plain": "date\n1     7274\n2     6322\n3     7263\n4     6807\n5     6704\n6     6337\n7     6533\n8     6557\n9     6369\n10    6567\n11    6657\n12    6866\nName: value, dtype: int64"
     },
     "execution_count": 22,
     "metadata": {},
     "output_type": "execute_result"
    }
   ],
   "source": [
    "weather_by_station.groupby(pd.DatetimeIndex(weather_by_station.date).month).value.count()"
   ],
   "metadata": {
    "collapsed": false,
    "pycharm": {
     "name": "#%%\n"
    }
   }
  },
  {
   "cell_type": "code",
   "execution_count": 22,
   "outputs": [],
   "source": [],
   "metadata": {
    "collapsed": false,
    "pycharm": {
     "name": "#%%\n"
    }
   }
  }
 ],
 "metadata": {
  "kernelspec": {
   "display_name": "Python 3",
   "language": "python",
   "name": "python3"
  },
  "language_info": {
   "codemirror_mode": {
    "name": "ipython",
    "version": 2
   },
   "file_extension": ".py",
   "mimetype": "text/x-python",
   "name": "python",
   "nbconvert_exporter": "python",
   "pygments_lexer": "ipython2",
   "version": "2.7.6"
  }
 },
 "nbformat": 4,
 "nbformat_minor": 0
}